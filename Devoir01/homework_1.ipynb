{
 "cells": [
  {
   "cell_type": "markdown",
   "metadata": {},
   "source": [
    "# Devoir 1"
   ]
  },
  {
   "cell_type": "markdown",
   "metadata": {},
   "source": [
    "### Par Olivier Malenfant-Thuot\n",
    "Matricule: 1012818"
   ]
  },
  {
   "cell_type": "markdown",
   "metadata": {},
   "source": [
    "## Question 1: Small exercise on probabilities"
   ]
  },
  {
   "cell_type": "code",
   "execution_count": 3,
   "metadata": {},
   "outputs": [
    {
     "name": "stdout",
     "output_type": "stream",
     "text": [
      "0.12127125731809309\n"
     ]
    }
   ],
   "source": [
    "cancer_proportion = 0.015\n",
    "positive_if_healthy = 0.096\n",
    "positive_if_sick = 0.87\n",
    "\n",
    "total_positive = ( cancer_proportion * positive_if_sick + \n",
    "                  (1 - cancer_proportion) * positive_if_healthy )\n",
    "sick_positive = ( cancer_proportion * positive_if_sick)\n",
    "\n",
    "final_prob = sick_positive / total_positive\n",
    "print(final_prob)"
   ]
  },
  {
   "cell_type": "markdown",
   "metadata": {},
   "source": [
    "La probabilité qu'une femme ait vraiment le cancer, même si son test est positif, est de seulement 12 %.\n",
    "\n",
    "La bonne réponse est E)."
   ]
  },
  {
   "cell_type": "markdown",
   "metadata": {},
   "source": [
    "## Question 2: Curse of dimensionality and geometric intuition in higher dimensions"
   ]
  },
  {
   "cell_type": "code",
   "execution_count": null,
   "metadata": {},
   "outputs": [],
   "source": []
  }
 ],
 "metadata": {
  "kernelspec": {
   "display_name": "Python 3",
   "language": "python",
   "name": "python3"
  },
  "language_info": {
   "codemirror_mode": {
    "name": "ipython",
    "version": 3
   },
   "file_extension": ".py",
   "mimetype": "text/x-python",
   "name": "python",
   "nbconvert_exporter": "python",
   "pygments_lexer": "ipython3",
   "version": "3.6.6"
  }
 },
 "nbformat": 4,
 "nbformat_minor": 2
}
