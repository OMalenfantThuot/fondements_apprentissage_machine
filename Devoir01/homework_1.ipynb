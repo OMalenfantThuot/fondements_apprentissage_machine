{
 "cells": [
  {
   "cell_type": "markdown",
   "metadata": {},
   "source": [
    "# Devoir 1"
   ]
  },
  {
   "cell_type": "markdown",
   "metadata": {},
   "source": [
    "### Par Olivier Malenfant-Thuot\n",
    "Matricule: 1012818"
   ]
  },
  {
   "cell_type": "markdown",
   "metadata": {},
   "source": [
    "## Question 1: Small exercise on probabilities"
   ]
  },
  {
   "cell_type": "code",
   "execution_count": 3,
   "metadata": {},
   "outputs": [
    {
     "name": "stdout",
     "output_type": "stream",
     "text": [
      "0.12127125731809309\n"
     ]
    }
   ],
   "source": [
    "cancer_proportion = 0.015\n",
    "positive_if_healthy = 0.096\n",
    "positive_if_sick = 0.87\n",
    "\n",
    "total_positive = ( cancer_proportion * positive_if_sick + \n",
    "                  (1 - cancer_proportion) * positive_if_healthy )\n",
    "sick_positive = ( cancer_proportion * positive_if_sick)\n",
    "\n",
    "final_prob = sick_positive / total_positive\n",
    "print(final_prob)"
   ]
  },
  {
   "cell_type": "markdown",
   "metadata": {},
   "source": [
    "La probabilité qu'une femme ait vraiment le cancer, même si son test est positif, est de seulement 12 %.\n",
    "\n",
    "La bonne réponse est E)."
   ]
  },
  {
   "cell_type": "markdown",
   "metadata": {},
   "source": [
    "## Question 2: Curse of dimensionality and geometric intuition in higher dimensions"
   ]
  },
  {
   "cell_type": "markdown",
   "metadata": {},
   "source": [
    "#### 1."
   ]
  },
  {
   "cell_type": "markdown",
   "metadata": {},
   "source": [
    "Le volume d'un hypercube de dimension $d$ est\n",
    "\n",
    "$V = c^d$,\n",
    "\n",
    "où c est la longueur d'un côté."
   ]
  },
  {
   "cell_type": "markdown",
   "metadata": {},
   "source": [
    "#### 2."
   ]
  },
  {
   "cell_type": "markdown",
   "metadata": {},
   "source": [
    "Comme l'intégrale sur l'Univers de $p(x)$ doit être normalisée à 1, et que $p(x)$ est nul à l'extérieur de l'hypercube, nous savons que son intégrale vaut 1 à l'intérieur du cube.\n",
    "\n",
    "Ensuite, comme la distribution est uniforme, la contibution de tout $x$ à l'intérieur du cube est la même.\n",
    "\n",
    "$p(x) = \\frac{1}{V} = \\frac{1}{c^d}$"
   ]
  },
  {
   "cell_type": "markdown",
   "metadata": {},
   "source": [
    "#### 3."
   ]
  },
  {
   "cell_type": "markdown",
   "metadata": {},
   "source": [
    "Comme la densité de probabilité est égale partout dans le grand hypercube, la probabilité $P_{small}$ qu'il soit généré dans le petit hypercube est égale au rapport de leur volume.\n",
    "\n",
    "$P_{small} = \\frac{V_{small} \\times p_{small}(x)}{V_{large} \\times p_{large}(x)} $\n",
    "\n",
    "Avec $p_{small}(x) = p_{large}(x)$, \n",
    "\n",
    "$P_{small} = \\frac{V_{small}}{V_{large}} = \\frac{(0.94c)^d}{c^d} = 0.94^d$\n",
    "\n",
    "et $P_{contour}$, la probabilité que le point soit dans le contour est\n",
    "\n",
    "$P_{contour} = 1 - 0.94^d$."
   ]
  },
  {
   "cell_type": "markdown",
   "metadata": {},
   "source": [
    "#### 4."
   ]
  },
  {
   "cell_type": "code",
   "execution_count": 12,
   "metadata": {},
   "outputs": [
    {
     "name": "stdout",
     "output_type": "stream",
     "text": [
      "Pour un hypercube en 1 dimensions, la probabilité est de 6.00%.\n",
      "Pour un hypercube en 2 dimensions, la probabilité est de 11.64%.\n",
      "Pour un hypercube en 3 dimensions, la probabilité est de 16.94%.\n",
      "Pour un hypercube en 5 dimensions, la probabilité est de 26.61%.\n",
      "Pour un hypercube en 10 dimensions, la probabilité est de 46.14%.\n",
      "Pour un hypercube en 100 dimensions, la probabilité est de 99.79%.\n",
      "Pour un hypercube en 1000 dimensions, la probabilité est de 100.00%.\n"
     ]
    }
   ],
   "source": [
    "dimensions = [1, 2, 3, 5, 10, 100, 1000]\n",
    "\n",
    "for dim in dimensions:\n",
    "    p_contour = 1. - 0.94**dim\n",
    "    print('Pour un hypercube en ' + str(dim) + ' dimensions, la probabilité est de {:3.2f}%.'.format(p_contour*100))"
   ]
  },
  {
   "cell_type": "markdown",
   "metadata": {},
   "source": [
    "#### 5."
   ]
  },
  {
   "cell_type": "markdown",
   "metadata": {},
   "source": [
    "En hautes dimensions, le nombre de degré de liberté fait qu'il est très rare pour un point de posséder des valeurs centrales dans toutes les dimensions. Dès qu'une seule valeur est près des extrêmes, le point se retrouve dans le contour. Il faut donc beaucoup plus de points pour bien échantilloner tout l'espace des probabilités."
   ]
  },
  {
   "cell_type": "markdown",
   "metadata": {},
   "source": [
    "## Parametric Gaussian density estimation, v.s. Parzen window density estimation"
   ]
  },
  {
   "cell_type": "markdown",
   "metadata": {},
   "source": [
    "#### 1."
   ]
  },
  {
   "cell_type": "markdown",
   "metadata": {},
   "source": [
    "(a) Les paramètres à entraîner pour une gaussienne isotropique sont la moyenne $\\mu$ et la covariance $\\sigma$. Les deux sont de dimension 1."
   ]
  },
  {
   "cell_type": "markdown",
   "metadata": {},
   "source": [
    "(b) Les paramètres $\\mu$ et $\\sigma$ peuvent être obtenus par:\n",
    "\n",
    "$\\mu = \\frac{1}{n} \\sum_{i = 1}^{n} x_i$\n",
    "\n",
    "$\\sigma = \\frac{1}{n} \\sum_{i = 1}^{n} (x_i - \\mu)(x_i - \\mu)^T$,\n",
    "\n",
    "pour $x_i \\in D$."
   ]
  },
  {
   "cell_type": "markdown",
   "metadata": {},
   "source": [
    "(c) La complexité algorithmique est de 2, car c'est le nombre de paramètres libres à optimiser par l'apprentissage."
   ]
  },
  {
   "cell_type": "markdown",
   "metadata": {},
   "source": [
    "(d) $p(x) = \\frac{1}{(2\\pi)^{d/2}\\sigma^d} e^{-\\frac{\\mid \\mid x - \\mu \\mid \\mid ^2}{2\\sigma^2}}$"
   ]
  },
  {
   "cell_type": "markdown",
   "metadata": {},
   "source": [
    "(e) La complexité algorithmique est de 1 cette fois, car seul $x$ varie d'un calcul à l'autre."
   ]
  },
  {
   "cell_type": "markdown",
   "metadata": {},
   "source": [
    "#### 2."
   ]
  },
  {
   "cell_type": "markdown",
   "metadata": {},
   "source": [
    "(a) La phase d'entraînement consiste à mettre en mémoire les valeurs en $d$ dimensions des $n$ points $x$ du dataset. "
   ]
  },
  {
   "cell_type": "markdown",
   "metadata": {},
   "source": [
    "(b) $\\hat{p}_{Parzen}(x) = \\frac{1}{n} \\sum_{i = 1}^{n} \\frac{1}{(2\\pi)^{d/2}\\sigma^d} e^{-\\frac{\\mid \\mid x - x_i\\mid \\mid^2}{2\\sigma^2}}$"
   ]
  },
  {
   "cell_type": "markdown",
   "metadata": {},
   "source": [
    "(c) La complexité algorithmique est de 1. Seul $x$ varie d'un calcul à l'autre."
   ]
  },
  {
   "cell_type": "markdown",
   "metadata": {},
   "source": [
    "#### 3."
   ]
  },
  {
   "cell_type": "markdown",
   "metadata": {},
   "source": [
    "(a) La méthode des Parzen Windows a une plus grande capacité que la méthode des gaussiennes paramétriques. La méthode des gaussiennes force beaucoup de symétries dans l'espace des paramètres, alors qu'avec l'utilisation des Parzen Windows chaque point de l'espace est indépendant des autres lors du calcul de sa densité de probabilité."
   ]
  },
  {
   "cell_type": "markdown",
   "metadata": {},
   "source": [
    "(b) La méthode des gaussiennes paramétriques peut over-fitter les données si $\\sigma$ est trop petit."
   ]
  },
  {
   "cell_type": "markdown",
   "metadata": {},
   "source": [
    "(c) Pour la méthode des gaussiennes, les prédictions obtenues vont dépendre fortement de la valeur choisie pour $\\sigma$, il faut donc le considérer comme un paramètre du modèle d'apprentissage. Par contre, pour les Parzen windows, les prédictions sont moins dépendantes de $\\sigma$. Il suffit de choisir une valeur raisonnable et nous pouvons ensuite le considérer comme un hyper-paramètre du modèle."
   ]
  },
  {
   "cell_type": "markdown",
   "metadata": {},
   "source": [
    "#### 4."
   ]
  },
  {
   "cell_type": "markdown",
   "metadata": {},
   "source": [
    "(a) Une gaussienne diagonale peut être exprimé par la fonction\n",
    "\n",
    "$f(x) = \\frac{1}{(2\\pi)^{d/2}\\sqrt{|\\Sigma|}} e^{-\\frac{1}{2} (x - \\mu) \\Sigma^{-1} (x - \\mu)^T}$,\n",
    "\n",
    "où $x$ et $\\mu$ sont des vecteurs de dimension d\n",
    "\n",
    "et $\\Sigma$ est une matrice carrée de taille d par d."
   ]
  },
  {
   "cell_type": "markdown",
   "metadata": {},
   "source": [
    "(b) Si les composantes du vecteur sont générées aléatoirement dans chacune des dimensions, selon leur propre distribution gaussienne, les variances dans chaque dimension seront indépendantes. La matrice de covariance de la gaussienne aura alors la forme diagonale suivante:\n",
    "\n",
    "$\\Sigma = \\begin{bmatrix} \\sigma_1^2 & & & \\Large{0} \\\\ & \\sigma_2^2\\\\ & & ...\\\\ \\Large{0} & & & \\sigma_d^2\\end{bmatrix}$\n",
    "\n",
    "où les $\\sigma$ sont indépendants et qui correspond à la matrice de covariaince d'une gaussienne diagonale."
   ]
  },
  {
   "cell_type": "markdown",
   "metadata": {},
   "source": [
    "(c) Le risque empirique à minimiser est\n",
    "\n",
    "$\\hat{R}(p(x),D) = -\\frac{1}{\\mid D\\mid} \\sum\\limits_{x\\in D}\\log(p(x))$.\n",
    "\n",
    "Et donc la fonction qui minimise ce risque est donnée par\n",
    "\n",
    "$\\hat{p}(D_{train}) = \\text{argmin}(-\\frac{1}{\\mid D\\mid} \\sum\\limits_{x\\in D}\\log(p(x)))$.\n",
    "\n",
    "Avec la forme du (a) pour $p(x)$, nous obtenons\n",
    "\n",
    "$\\hat{p}(D_{train}) = \\text{argmin}(-\\frac{1}{|D|} \\sum\\limits_{x\\in D}\\log(\\frac{1}{(2\\pi)^{d/2}\\sqrt{|\\Sigma|}} e^{-\\frac{1}{2} (x - \\mu) \\Sigma^{-1} (x - \\mu)^T}))$"
   ]
  },
  {
   "cell_type": "markdown",
   "metadata": {},
   "source": [
    "(d) Les minimums de la fonction $\\hat{p}(D_{train})$ se trouveront lorsque $\\frac{\\partial \\hat{p}}{\\partial \\mu} = 0$ et $\\frac{\\partial \\hat{p}}{\\partial \\Sigma} = 0$.\n",
    "\n",
    "$\\frac{\\partial \\hat{p}}{\\partial \\mu} = \\frac{\\partial}{\\partial \\mu} (-\\frac{1}{|D|} \\sum_x (\\log(\\frac{1}{(2\\pi)^d/2 \\sqrt{|\\Sigma|}}) - (\\frac{1}{2}(x-\\mu) \\Sigma^{-1}(x-\\mu)^T)) = 0$\n",
    "\n",
    "Nous pouvons enlever tous les termes ne dépendant pas de $\\mu$\n",
    "\n",
    "$\\sum_x \\frac{\\partial}{\\partial \\mu}((x-\\mu) \\Sigma^{-1}(x-\\mu)^T) = 0$.\n",
    "\n"
   ]
  },
  {
   "cell_type": "markdown",
   "metadata": {},
   "source": [
    "## Practical part: density estimation"
   ]
  },
  {
   "cell_type": "code",
   "execution_count": 63,
   "metadata": {},
   "outputs": [],
   "source": [
    "import numpy as np\n",
    "from sklearn import datasets\n",
    "import matplotlib.pyplot as plt"
   ]
  },
  {
   "cell_type": "markdown",
   "metadata": {},
   "source": [
    "1. Gaussian density estimator"
   ]
  },
  {
   "cell_type": "code",
   "execution_count": 127,
   "metadata": {},
   "outputs": [],
   "source": [
    "class gaussian_density_estimator:\n",
    "    \n",
    "    def train(self, data):\n",
    "        if data.ndim == 1:\n",
    "            data = np.transpose(np.array([data]))\n",
    "        self.ndim = np.min(np.shape(data))\n",
    "        self.mu = np.zeros(self.ndim)\n",
    "        self.sigma = np.zeros(self.ndim)\n",
    "        self.mu = 1./np.shape(data)[0] * np.sum(data, axis = 0)\n",
    "        for dim in range(self.ndim):\n",
    "            self.sigma[dim] = (1./np.shape(data)[0] * np.matmul((data[:,dim] - self.mu[dim]),\n",
    "                                np.transpose(data[:,dim] - self.mu[dim])))\n",
    "                        \n",
    "    def predict(self, x):\n",
    "        prediction = np.zeros(self.ndim)\n",
    "        prefactor = 1./((2*np.pi)**(self.ndim/2) * np.sqrt(np.sum(self.sigma)**2))\n",
    "        for dim in range(self.ndim):\n",
    "            prediction[dim] = (prefactor * np.exp(-1./2 * np.matmul((x - self.mu) *\n",
    "                                self.sigma**(-2), np.transpose(x - self.mu))))\n",
    "        return prediction"
   ]
  },
  {
   "cell_type": "markdown",
   "metadata": {},
   "source": [
    "3. 1D Densities"
   ]
  },
  {
   "cell_type": "code",
   "execution_count": 58,
   "metadata": {},
   "outputs": [],
   "source": [
    "iris = datasets.load_iris()\n",
    "data = iris.data\n",
    "target = iris.target"
   ]
  },
  {
   "cell_type": "code",
   "execution_count": 128,
   "metadata": {},
   "outputs": [
    {
     "data": {
      "text/plain": [
       "[<matplotlib.lines.Line2D at 0x7f2ace862c18>]"
      ]
     },
     "execution_count": 128,
     "metadata": {},
     "output_type": "execute_result"
    },
    {
     "data": {
      "image/png": "[encoded data removed]",
      "text/plain": [
       "<Figure size 720x576 with 1 Axes>"
      ]
     },
     "metadata": {},
     "output_type": "display_data"
    }
   ],
   "source": [
    "data_1d = data[np.where(target == 0)][:,0]\n",
    "\n",
    "gauss_1d = gaussian_density_estimator()\n",
    "gauss_1d.train(data_1d)\n",
    "x = np.linspace(np.min(data_1d),np.max(data_1d),100)\n",
    "predictions = np.zeros(100)\n",
    "for point in range(len(x)):\n",
    "    predictions[point] = gauss_1d.predict(x[point])\n",
    "    \n",
    "    \n",
    "fig, ax = plt.subplots(figsize = (10, 8))\n",
    "ax.scatter(data_1d,np.zeros(len(data_1d)))\n",
    "ax.grid(True)\n",
    "#ax.set_ylim(ymin = 0)\n",
    "ax.plot(x, predictions) "
   ]
  },
  {
   "cell_type": "code",
   "execution_count": null,
   "metadata": {},
   "outputs": [],
   "source": []
  }
 ],
 "metadata": {
  "kernelspec": {
   "display_name": "Python 3",
   "language": "python",
   "name": "python3"
  },
  "language_info": {
   "codemirror_mode": {
    "name": "ipython",
    "version": 3
   },
   "file_extension": ".py",
   "mimetype": "text/x-python",
   "name": "python",
   "nbconvert_exporter": "python",
   "pygments_lexer": "ipython3",
   "version": "3.6.6"
  }
 },
 "nbformat": 4,
 "nbformat_minor": 2
}
