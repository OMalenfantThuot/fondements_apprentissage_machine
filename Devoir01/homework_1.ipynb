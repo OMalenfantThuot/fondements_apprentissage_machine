{
 "cells": [
  {
   "cell_type": "markdown",
   "metadata": {},
   "source": [
    "# Devoir 1"
   ]
  },
  {
   "cell_type": "markdown",
   "metadata": {},
   "source": [
    "### Par Olivier Malenfant-Thuot\n",
    "Matricule: 1012818"
   ]
  },
  {
   "cell_type": "markdown",
   "metadata": {},
   "source": [
    "## Question 1: Small exercise on probabilities"
   ]
  },
  {
   "cell_type": "code",
   "execution_count": 3,
   "metadata": {},
   "outputs": [
    {
     "name": "stdout",
     "output_type": "stream",
     "text": [
      "0.12127125731809309\n"
     ]
    }
   ],
   "source": [
    "cancer_proportion = 0.015\n",
    "positive_if_healthy = 0.096\n",
    "positive_if_sick = 0.87\n",
    "\n",
    "total_positive = ( cancer_proportion * positive_if_sick + \n",
    "                  (1 - cancer_proportion) * positive_if_healthy )\n",
    "sick_positive = ( cancer_proportion * positive_if_sick)\n",
    "\n",
    "final_prob = sick_positive / total_positive\n",
    "print(final_prob)"
   ]
  },
  {
   "cell_type": "markdown",
   "metadata": {},
   "source": [
    "La probabilité qu'une femme ait vraiment le cancer, même si son test est positif, est de seulement 12 %.\n",
    "\n",
    "La bonne réponse est E)."
   ]
  },
  {
   "cell_type": "markdown",
   "metadata": {},
   "source": [
    "## Question 2: Curse of dimensionality and geometric intuition in higher dimensions"
   ]
  },
  {
   "cell_type": "markdown",
   "metadata": {},
   "source": [
    "#### 1."
   ]
  },
  {
   "cell_type": "markdown",
   "metadata": {},
   "source": [
    "Le volume d'un hypercube de dimension $d$ est\n",
    "\n",
    "$V = c^d$,\n",
    "\n",
    "où c est la longueur d'un côté."
   ]
  },
  {
   "cell_type": "markdown",
   "metadata": {},
   "source": [
    "#### 2."
   ]
  },
  {
   "cell_type": "markdown",
   "metadata": {},
   "source": [
    "Comme l'intégrale sur l'Univers de $p(x)$ doit être normalisée à 1, et que $p(x)$ est nul à l'extérieur de l'hypercube, nous savons que son intégrale vaut 1 à l'intérieur du cube.\n",
    "\n",
    "Ensuite, comme la distribution est uniforme, la contibution de tout $x$ à l'intérieur du cube est la même.\n",
    "\n",
    "$p(x) = \\frac{1}{V} = \\frac{1}{c^d}$"
   ]
  },
  {
   "cell_type": "markdown",
   "metadata": {},
   "source": [
    "#### 3."
   ]
  },
  {
   "cell_type": "markdown",
   "metadata": {},
   "source": [
    "Comme la densité de probabilité est égale partout dans le grand hypercube, la probabilité $P_{small}$ qu'il soit généré dans le petit hypercube est égale au rapport de leur volume.\n",
    "\n",
    "$P_{small} = \\frac{V_{small} \\times p_{small}(x)}{V_{large} \\times p_{large}(x)} $\n",
    "\n",
    "Avec $p_{small}(x) = p_{large}(x)$, \n",
    "\n",
    "$P_{small} = \\frac{V_{small}}{V_{large}} = \\frac{(0.94c)^d}{c^d} = 0.94^d$\n",
    "\n",
    "et $P_{contour}$, la probabilité que le point soit dans le contour est\n",
    "\n",
    "$P_{contour} = 1 - 0.94^d$."
   ]
  },
  {
   "cell_type": "markdown",
   "metadata": {},
   "source": [
    "#### 4."
   ]
  },
  {
   "cell_type": "code",
   "execution_count": 12,
   "metadata": {},
   "outputs": [
    {
     "name": "stdout",
     "output_type": "stream",
     "text": [
      "Pour un hypercube en 1 dimensions, la probabilité est de 6.00%.\n",
      "Pour un hypercube en 2 dimensions, la probabilité est de 11.64%.\n",
      "Pour un hypercube en 3 dimensions, la probabilité est de 16.94%.\n",
      "Pour un hypercube en 5 dimensions, la probabilité est de 26.61%.\n",
      "Pour un hypercube en 10 dimensions, la probabilité est de 46.14%.\n",
      "Pour un hypercube en 100 dimensions, la probabilité est de 99.79%.\n",
      "Pour un hypercube en 1000 dimensions, la probabilité est de 100.00%.\n"
     ]
    }
   ],
   "source": [
    "dimensions = [1, 2, 3, 5, 10, 100, 1000]\n",
    "\n",
    "for dim in dimensions:\n",
    "    p_contour = 1. - 0.94**dim\n",
    "    print('Pour un hypercube en ' + str(dim) + ' dimensions, la probabilité est de {:3.2f}%.'.format(p_contour*100))"
   ]
  },
  {
   "cell_type": "markdown",
   "metadata": {},
   "source": [
    "#### 5."
   ]
  },
  {
   "cell_type": "markdown",
   "metadata": {},
   "source": [
    "En hautes dimensions, le nombre de degré de liberté fait qu'il est très rare pour un point de posséder des valeurs centrales dans toutes les dimensions. Dès qu'une seule valeur est près des extrêmes, le point se retrouve dans le contour. Il faut donc beaucoup plus de points pour bien échantilloner tout l'espace des probabilités."
   ]
  },
  {
   "cell_type": "markdown",
   "metadata": {},
   "source": [
    "## Parametric Gaussian density estimation, v.s. Parzen window density estimation"
   ]
  },
  {
   "cell_type": "markdown",
   "metadata": {},
   "source": [
    "#### 1."
   ]
  },
  {
   "cell_type": "code",
   "execution_count": null,
   "metadata": {},
   "outputs": [],
   "source": []
  }
 ],
 "metadata": {
  "kernelspec": {
   "display_name": "Python 3",
   "language": "python",
   "name": "python3"
  },
  "language_info": {
   "codemirror_mode": {
    "name": "ipython",
    "version": 3
   },
   "file_extension": ".py",
   "mimetype": "text/x-python",
   "name": "python",
   "nbconvert_exporter": "python",
   "pygments_lexer": "ipython3",
   "version": "3.6.6"
  }
 },
 "nbformat": 4,
 "nbformat_minor": 2
}
