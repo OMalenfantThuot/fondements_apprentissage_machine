{
 "cells": [
  {
   "cell_type": "markdown",
   "metadata": {},
   "source": [
    "# Devoir 2 pour IFT6390 - Fondements de l'apprentissage machine"
   ]
  },
  {
   "cell_type": "markdown",
   "metadata": {},
   "source": [
    "### Par Olivier Malenfant-Thuot\n",
    "Matricule: 1012818"
   ]
  },
  {
   "cell_type": "markdown",
   "metadata": {},
   "source": [
    "## Question 1: Linear and non-linear regularized regression"
   ]
  },
  {
   "cell_type": "markdown",
   "metadata": {},
   "source": [
    "### 1.1 Linear Regression"
   ]
  },
  {
   "cell_type": "markdown",
   "metadata": {},
   "source": [
    "1.1.1 L'ensemble des paramètres $\\theta$ du modèle de régression linéaire sont $\\vec{\\text{w}} \\in {\\rm I\\!R^d}$ et $b \\in {\\rm I\\!R}$. "
   ]
  },
  {
   "cell_type": "markdown",
   "metadata": {},
   "source": [
    "1.1.2 Le risque empirique pour un training set $D$, évalué à partir de la fonction de perte $L((x,t),f)$ prend la forme\n",
    "\n",
    "\\begin{equation}\n",
    "    \\hat{R}(f,D) = \\sum\\limits_{(x,t) \\in D}(f(x) - t)^2 = \\sum\\limits_{(x,t) \\in D} (\\vec{\\text{w}}^T \\vec{x} + b - t)^2\n",
    "\\end{equation}"
   ]
  },
  {
   "cell_type": "markdown",
   "metadata": {},
   "source": [
    "1.1.3 Nous pouvons utiliser le ERM pour minimiser le risque, avec:\n",
    "\n",
    "\\begin{equation}\n",
    "    \\frac{\\partial}{\\partial \\vec{\\text{w}}} \\frac{\\partial}{\\partial b}\\sum\\limits_{(x,t) \\in D} (\\vec{\\text{w}}^T \\vec{x} + b - t)^2 = 0.\n",
    "\\end{equation} "
   ]
  },
  {
   "cell_type": "markdown",
   "metadata": {},
   "source": [
    "1.1.4 "
   ]
  }
 ],
 "metadata": {
  "kernelspec": {
   "display_name": "Python 3",
   "language": "python",
   "name": "python3"
  },
  "language_info": {
   "codemirror_mode": {
    "name": "ipython",
    "version": 3
   },
   "file_extension": ".py",
   "mimetype": "text/x-python",
   "name": "python",
   "nbconvert_exporter": "python",
   "pygments_lexer": "ipython3",
   "version": "3.6.6"
  }
 },
 "nbformat": 4,
 "nbformat_minor": 2
}
