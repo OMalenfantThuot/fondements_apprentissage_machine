{
 "cells": [
  {
   "cell_type": "markdown",
   "metadata": {},
   "source": [
    "# Devoir 2 pour IFT6390 - Fondements de l'apprentissage machine"
   ]
  },
  {
   "cell_type": "markdown",
   "metadata": {},
   "source": [
    "### Par Olivier Malenfant-Thuot\n",
    "Matricule: 1012818"
   ]
  },
  {
   "cell_type": "markdown",
   "metadata": {},
   "source": [
    "## Question 1: Linear and non-linear regularized regression"
   ]
  },
  {
   "cell_type": "markdown",
   "metadata": {},
   "source": [
    "### 1.1 Linear Regression"
   ]
  },
  {
   "cell_type": "markdown",
   "metadata": {},
   "source": [
    "1.1.1 L'ensemble des paramètres $\\theta$ du modèle de régression linéaire sont $\\vec{\\text{w}} \\in {\\rm I\\!R^d}$ et $b \\in {\\rm I\\!R}$. "
   ]
  },
  {
   "cell_type": "markdown",
   "metadata": {},
   "source": [
    "1.1.2 Le risque empirique pour un training set $D$, évalué à partir de la fonction de perte $L((x,t),f)$ prend la forme\n",
    "\n",
    "\\begin{equation}\n",
    "    \\hat{R}(f,D) = \\sum\\limits_{(x,t) \\in D}(f(x) - t)^2 = \\sum\\limits_{(x,t) \\in D} (\\vec{\\text{w}}^T \\vec{x} + b - t)^2\n",
    "\\end{equation}"
   ]
  },
  {
   "cell_type": "markdown",
   "metadata": {},
   "source": [
    "1.1.3 Nous pouvons utiliser le ERM pour minimiser le risque, avec:\n",
    "\n",
    "\\begin{equation}\n",
    "    \\frac{\\partial}{\\partial \\vec{\\text{w}}} \\frac{\\partial}{\\partial b}\\sum\\limits_{(x,t) \\in D} (\\vec{\\text{w}}^T \\vec{x} + b - t)^2 = 0.\n",
    "\\end{equation} "
   ]
  },
  {
   "cell_type": "markdown",
   "metadata": {},
   "source": [
    "1.1.4 Le gradient du risque empirique peu être exprimé par:\n",
    "\n",
    "\\begin{equation}\n",
    "   \\nabla \\hat{R} = \\sum\\limits_{(x,t) \\in D} \n",
    "   \\begin{bmatrix}\n",
    "       \\frac{\\partial}{\\partial w_1} (\\vec{\\text{w}}^T \\vec{x} + b - t)^2\\\\\n",
    "       \\frac{\\partial}{\\partial w_2} (\\vec{\\text{w}}^T \\vec{x} + b - t)^2\\\\\n",
    "       \\vdots \\\\\n",
    "       \\frac{\\partial}{\\partial w_d} (\\vec{\\text{w}}^T \\vec{x} + b - t)^2\\\\\n",
    "       \\frac{\\partial}{\\partial t} (\\vec{\\text{w}}^T \\vec{x} + b - t)^2\n",
    "   \\end{bmatrix} = \\sum\\limits_{(x,t) \\in D}\n",
    "   \\begin{bmatrix}\n",
    "       2w_1(\\vec{\\text{w}}^T \\vec{x} + b - t)\\\\\n",
    "       2w_2(\\vec{\\text{w}}^T \\vec{x} + b - t)\\\\\n",
    "       \\vdots \\\\\n",
    "       2w_d(\\vec{\\text{w}}^T \\vec{x} + b - t)\\\\\n",
    "       -2(\\vec{\\text{w}}^T \\vec{x} + b - t)\n",
    "   \\end{bmatrix}\n",
    "\\end{equation}"
   ]
  },
  {
   "cell_type": "markdown",
   "metadata": {},
   "source": [
    "1.1.5 Le gradient du risque empirique indique dans quelle direction de l'espace des paramètres $\\theta$ il faut se déplacer afin de diminuer la somme des erreurs de tous les points du training set."
   ]
  },
  {
   "cell_type": "markdown",
   "metadata": {},
   "source": [
    "### 1.2 Ridge Regression"
   ]
  },
  {
   "cell_type": "markdown",
   "metadata": {},
   "source": [
    "1.2.1 Le gradient du risque empirique régularisé devient\n",
    "\n",
    "\\begin{equation}\n",
    "   \\nabla \\tilde{R} = \\sum\\limits_{(x,t) \\in D}\n",
    "   \\begin{bmatrix}\n",
    "       2w_1(\\vec{\\text{w}}^T \\vec{x} + b - t) + 2w_1\\\\\n",
    "       2w_2(\\vec{\\text{w}}^T \\vec{x} + b - t) + 2w_2\\\\\n",
    "       \\vdots \\\\\n",
    "       2w_d(\\vec{\\text{w}}^T \\vec{x} + b - t) + 2w_d\\\\\n",
    "       -2(\\vec{\\text{w}}^T \\vec{x} + b - t)\n",
    "   \\end{bmatrix}\n",
    "\\end{equation}.\n",
    "\n",
    "Ce nouveau gradient diffère du précédent par un terme $2w_i$ pour chaque dimension $i$, mais est le même pour le bias."
   ]
  },
  {
   "cell_type": "code",
   "execution_count": null,
   "metadata": {},
   "outputs": [],
   "source": []
  }
 ],
 "metadata": {
  "kernelspec": {
   "display_name": "Python 3",
   "language": "python",
   "name": "python3"
  },
  "language_info": {
   "codemirror_mode": {
    "name": "ipython",
    "version": 3
   },
   "file_extension": ".py",
   "mimetype": "text/x-python",
   "name": "python",
   "nbconvert_exporter": "python",
   "pygments_lexer": "ipython3",
   "version": "3.6.6"
  }
 },
 "nbformat": 4,
 "nbformat_minor": 2
}
