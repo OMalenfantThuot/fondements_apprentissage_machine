{
 "cells": [
  {
   "cell_type": "markdown",
   "metadata": {},
   "source": [
    "# Rappel pour Python"
   ]
  },
  {
   "cell_type": "markdown",
   "metadata": {},
   "source": [
    "Revoyons quelques concepts de base avec Python.\n",
    "\n",
    "* **Usage de `help`.**    \n",
    "    Au besoin, afin d'obtenir de l'information sur l'usage et les paramètres d'une fonction, utilisez help (ex: help(range)).\n"
   ]
  },
  {
   "cell_type": "code",
   "execution_count": 1,
   "metadata": {},
   "outputs": [
    {
     "name": "stdout",
     "output_type": "stream",
     "text": [
      "Help on class range in module builtins:\n",
      "\n",
      "class range(object)\n",
      " |  range(stop) -> range object\n",
      " |  range(start, stop[, step]) -> range object\n",
      " |  \n",
      " |  Return an object that produces a sequence of integers from start (inclusive)\n",
      " |  to stop (exclusive) by step.  range(i, j) produces i, i+1, i+2, ..., j-1.\n",
      " |  start defaults to 0, and stop is omitted!  range(4) produces 0, 1, 2, 3.\n",
      " |  These are exactly the valid indices for a list of 4 elements.\n",
      " |  When step is given, it specifies the increment (or decrement).\n",
      " |  \n",
      " |  Methods defined here:\n",
      " |  \n",
      " |  __bool__(self, /)\n",
      " |      self != 0\n",
      " |  \n",
      " |  __contains__(self, key, /)\n",
      " |      Return key in self.\n",
      " |  \n",
      " |  __eq__(self, value, /)\n",
      " |      Return self==value.\n",
      " |  \n",
      " |  __ge__(self, value, /)\n",
      " |      Return self>=value.\n",
      " |  \n",
      " |  __getattribute__(self, name, /)\n",
      " |      Return getattr(self, name).\n",
      " |  \n",
      " |  __getitem__(self, key, /)\n",
      " |      Return self[key].\n",
      " |  \n",
      " |  __gt__(self, value, /)\n",
      " |      Return self>value.\n",
      " |  \n",
      " |  __hash__(self, /)\n",
      " |      Return hash(self).\n",
      " |  \n",
      " |  __iter__(self, /)\n",
      " |      Implement iter(self).\n",
      " |  \n",
      " |  __le__(self, value, /)\n",
      " |      Return self<=value.\n",
      " |  \n",
      " |  __len__(self, /)\n",
      " |      Return len(self).\n",
      " |  \n",
      " |  __lt__(self, value, /)\n",
      " |      Return self<value.\n",
      " |  \n",
      " |  __ne__(self, value, /)\n",
      " |      Return self!=value.\n",
      " |  \n",
      " |  __new__(*args, **kwargs) from builtins.type\n",
      " |      Create and return a new object.  See help(type) for accurate signature.\n",
      " |  \n",
      " |  __reduce__(...)\n",
      " |      helper for pickle\n",
      " |  \n",
      " |  __repr__(self, /)\n",
      " |      Return repr(self).\n",
      " |  \n",
      " |  __reversed__(...)\n",
      " |      Return a reverse iterator.\n",
      " |  \n",
      " |  count(...)\n",
      " |      rangeobject.count(value) -> integer -- return number of occurrences of value\n",
      " |  \n",
      " |  index(...)\n",
      " |      rangeobject.index(value, [start, [stop]]) -> integer -- return index of value.\n",
      " |      Raise ValueError if the value is not present.\n",
      " |  \n",
      " |  ----------------------------------------------------------------------\n",
      " |  Data descriptors defined here:\n",
      " |  \n",
      " |  start\n",
      " |  \n",
      " |  step\n",
      " |  \n",
      " |  stop\n",
      "\n"
     ]
    }
   ],
   "source": [
    "help(range)"
   ]
  },
  {
   "cell_type": "markdown",
   "metadata": {},
   "source": [
    "* **Structure `list`, fonction `range`**.    \n",
    "    Créez une liste croissante des nombres allant de 0 à 10. Créez une liste décroissante des mêmes nombres.\n"
   ]
  },
  {
   "cell_type": "code",
   "execution_count": 5,
   "metadata": {},
   "outputs": [
    {
     "name": "stdout",
     "output_type": "stream",
     "text": [
      "range(0, 11)\n",
      "range(10, -1, -1)\n"
     ]
    }
   ],
   "source": [
    "l1 = range(11)\n",
    "l2 = range(10,-1,-1)\n",
    "\n",
    "print(l1)\n",
    "print(l2)"
   ]
  },
  {
   "cell_type": "markdown",
   "metadata": {},
   "source": [
    "* **Structure `for`**.        \n",
    "    Additionnez les listes terme à terme: essayez avec l'opérateur +. Que se passe-t'il? Faites-le maintenant avec une boucle for.\n"
   ]
  },
  {
   "cell_type": "code",
   "execution_count": 8,
   "metadata": {},
   "outputs": [
    {
     "name": "stdout",
     "output_type": "stream",
     "text": [
      "[10, 10, 10, 10, 10, 10, 10, 10, 10, 10, 10]\n"
     ]
    }
   ],
   "source": [
    "l3 = []\n",
    "for i,j in zip(l1,l2):\n",
    "    l3.append(i+j)\n",
    "print(l3)"
   ]
  },
  {
   "cell_type": "markdown",
   "metadata": {},
   "source": [
    "* **Structure `def`**.      \n",
    "    Voici comment on pourrait définir une fonction \"plus un\":\n",
    "\n",
    "        def plus_un(s):\n",
    "            s = s + 1\n",
    "            return s\n",
    "\n",
    "    Notez l'importance de l'indentation!"
   ]
  },
  {
   "cell_type": "code",
   "execution_count": null,
   "metadata": {},
   "outputs": [],
   "source": []
  },
  {
   "cell_type": "markdown",
   "metadata": {},
   "source": [
    "# Numpy: manipulations de base"
   ]
  },
  {
   "cell_type": "markdown",
   "metadata": {},
   "source": [
    "*Note:* Si vous êtes familier avec matlab, cette [page web](http://www.scipy.org/NumPy_for_Matlab_Users) vous permettra de voir les principales correspondances matlab/numpy en terme de syntaxe.\n",
    "\n"
   ]
  },
  {
   "cell_type": "markdown",
   "metadata": {},
   "source": [
    "### Manipulations de base"
   ]
  },
  {
   "cell_type": "markdown",
   "metadata": {},
   "source": [
    "Commençons par quelques manipulations de base.\n",
    "\n",
    "* Avec la fonction `arange` de numpy, créez un tableau d'éléments 0 à 10 exclusivement."
   ]
  },
  {
   "cell_type": "code",
   "execution_count": null,
   "metadata": {},
   "outputs": [],
   "source": [
    "import numpy as np\n",
    "t = None"
   ]
  },
  {
   "cell_type": "markdown",
   "metadata": {},
   "source": [
    "* Déterminez le type du tableau avec la fonction `type`. Déterminez maintenant le type d'un élément du tableau (utilisez l'opérateur []). Affichez la dimension du tableau (qui est de type tuple): `print(le_tableau.shape`.)"
   ]
  },
  {
   "cell_type": "code",
   "execution_count": null,
   "metadata": {},
   "outputs": [],
   "source": []
  },
  {
   "cell_type": "markdown",
   "metadata": {},
   "source": [
    "* Accédez aux éléments 3 à 6 à l'aide de l'opérateur «:»."
   ]
  },
  {
   "cell_type": "code",
   "execution_count": null,
   "metadata": {},
   "outputs": [],
   "source": []
  },
  {
   "cell_type": "markdown",
   "metadata": {},
   "source": [
    "* Maintenant, créez un second tableau de 10 éléments, cette fois-ci en convertissant une liste d'éléments (x = [1,2,3,...]) en tableau à l'aide de la fonction array. \n"
   ]
  },
  {
   "cell_type": "code",
   "execution_count": null,
   "metadata": {},
   "outputs": [],
   "source": [
    "x = [0,1,2,3,4,5,6,7,8,9]"
   ]
  },
  {
   "cell_type": "markdown",
   "metadata": {},
   "source": [
    "Remarquez que vous pouvez maintenant utiliser l'opérateur + pour faire une addition terme à terme des deux tableaux. \n",
    "* faisez un addition des listes pythons avec `+`\n",
    "* faisez un addition des `np.array` avec `+`\n",
    "\n",
    "Subtilité à garder à l'esprit: numpy contient à la fois une classe ndarray et une classe matrix qui, bien évidemment, se comportent différemment. Par exemple, l'opérateur * est, dans le premier cas, une multiplication terme à terme, tandis qu'il consiste en une multiplication matricielle dans le second cas.\n",
    "* faisez un multiplication des 1D np.array * np.array, utilisez `t`\n",
    "* faisez un multiplication des 2D np.matrix * np.matrix, utilisez `m`\n",
    "* faisez np.dot des 2D np.array, np.array, utilisez `t2`"
   ]
  },
  {
   "cell_type": "code",
   "execution_count": null,
   "metadata": {},
   "outputs": [],
   "source": [
    "# experiments avec +\n",
    "\n",
    "# experiments avec *\n",
    "m = np.matrix(t).reshape(2,5)\n",
    "t2 = t.reshape(2,5)"
   ]
  },
  {
   "cell_type": "markdown",
   "metadata": {},
   "source": [
    "* Modifiez la dimension de l'un de vos tableaux : (tab.shape = 2,3). Que se passe-t'il? Essayer avec (tab.shape = 2,5). Confirmez la nouvelle dimension à l'aide de la fonction shape."
   ]
  },
  {
   "cell_type": "code",
   "execution_count": null,
   "metadata": {},
   "outputs": [],
   "source": []
  },
  {
   "cell_type": "markdown",
   "metadata": {},
   "source": [
    "### Statistiques"
   ]
  },
  {
   "cell_type": "markdown",
   "metadata": {},
   "source": [
    "Nous allons maintenant générer quelques données et en vérifier les statistiques.\n",
    "\n",
    "* Créez un tableau de dimension 100 lignes par 2 colonnes. Vous pouvez utiliser la fonction ones ou zeros.\n"
   ]
  },
  {
   "cell_type": "code",
   "execution_count": null,
   "metadata": {},
   "outputs": [],
   "source": []
  },
  {
   "cell_type": "markdown",
   "metadata": {},
   "source": [
    "* Remplissez chacune de ces colonnes avec des échantillons tirés de deux gaussiennes. \n",
    "  * Pour se faire, utilisez la fonction normal afin de générer d'abord 100 observations de moyenne 0 et d'écart type 1. Utilisez help afin de connaître les paramètres de la fonction normal. \n",
    "  * Remplissez la première colonne (tableau[:,0]) à l'aide de ces observations. Si vous avez de la difficulté, regardez quelle est la dimension des différents tableaux avec la fonction shape.\n",
    "  * Faites de même pour la deuxième colonne, mais cette fois-ci avec une gaussienne de moyenne 0 et d'écart-type 5.\n"
   ]
  },
  {
   "cell_type": "code",
   "execution_count": null,
   "metadata": {},
   "outputs": [],
   "source": []
  },
  {
   "cell_type": "markdown",
   "metadata": {},
   "source": [
    "* Validez vos données à l'aide des fonctions mean et std. Faites-le en utilisant l'argument axis."
   ]
  },
  {
   "cell_type": "code",
   "execution_count": null,
   "metadata": {},
   "outputs": [],
   "source": []
  },
  {
   "cell_type": "markdown",
   "metadata": {},
   "source": [
    "# On s'amuse avec des fleurs"
   ]
  },
  {
   "cell_type": "markdown",
   "metadata": {},
   "source": [
    "Nous allons maintenant nous intéresser à un jeu de données réelles, bien que petit. Il s'agit d'[iris](http://en.wikipedia.org/wiki/Iris_flower_data_set), disponible [ici](http://www.iro.umontreal.ca/%7Edift3395/files/iris.txt). Commencez par télécharger le fichier et le mettre dans le mêne dossier que ce fichier notebook, puis chargez le jeu de données avec la fonction numpy loadtxt :\n",
    "\n",
    " "
   ]
  },
  {
   "cell_type": "code",
   "execution_count": null,
   "metadata": {},
   "outputs": [],
   "source": [
    "iris = "
   ]
  },
  {
   "cell_type": "markdown",
   "metadata": {},
   "source": [
    "### Travailler avec des `array` numpy"
   ]
  },
  {
   "cell_type": "markdown",
   "metadata": {},
   "source": [
    "Vous avez maintenant accès à un *array* nommé iris.\n",
    "\n",
    "* imprimez les dimensions avec `shape`\n",
    "* visualisez des éléments du jeu de données"
   ]
  },
  {
   "cell_type": "code",
   "execution_count": null,
   "metadata": {},
   "outputs": [],
   "source": []
  },
  {
   "cell_type": "markdown",
   "metadata": {},
   "source": [
    "L'accès aux éléments d'une matrice numpy se fait de manière similaire à une liste python, à la différence qu'on peut accèder à un élément de la sous liste directement.\n",
    "* imprimez le premier element du `list l` avec `[][]`\n",
    "* imprimez le premier element de `np.array nl` avec `[,]`"
   ]
  },
  {
   "cell_type": "code",
   "execution_count": null,
   "metadata": {},
   "outputs": [],
   "source": [
    "l = [[0,1,3],\n",
    "     [4,5,6],\n",
    "     [7,8,9]]\n",
    "nl = np.array(l)"
   ]
  },
  {
   "cell_type": "markdown",
   "metadata": {},
   "source": [
    "L'avantage est qu'on peut déterminer des intervales de manière beaucoup plus efficace. Il est maintenant possible d'utiliser l'opérateur «`:`» pour définir un intervale sur toutes les sous listes en même temps\n",
    "* imprimez les elements 4,5,7,8 de `np.array` utilisant `[:]`"
   ]
  },
  {
   "cell_type": "code",
   "execution_count": null,
   "metadata": {},
   "outputs": [],
   "source": [
    "# tous les elements\n",
    "print(nl)\n",
    "print(nl[0:,:3])\n",
    "\n",
    "# 4,5,7,8 avec un list\n",
    "print([arr[:2] for arr in l[1:]])\n",
    "\n",
    "# 4,5,7,8 avec numpy array"
   ]
  },
  {
   "cell_type": "markdown",
   "metadata": {},
   "source": [
    "Le jeu de données comporte 150 exemples: 50 pour chaque classe. Chaque rangée correspond à un exemple - quatre traits/caractéristiques/features, plus la classe/le label/l'étiquette soit (\"1\", \"2\", ou \"3\").\n",
    " \n",
    "* Accèdez à la 23e rangée de l'`array` iris"
   ]
  },
  {
   "cell_type": "code",
   "execution_count": null,
   "metadata": {},
   "outputs": [],
   "source": []
  },
  {
   "cell_type": "markdown",
   "metadata": {},
   "source": [
    "* Accèdez à la 3e colonne\n"
   ]
  },
  {
   "cell_type": "code",
   "execution_count": null,
   "metadata": {},
   "outputs": [],
   "source": []
  },
  {
   "cell_type": "markdown",
   "metadata": {},
   "source": [
    "* Maintenant, Accèdez aux éléments des rangées 0 à 9 en ne prenant que les colonne 1 et 2"
   ]
  },
  {
   "cell_type": "code",
   "execution_count": null,
   "metadata": {},
   "outputs": [],
   "source": []
  },
  {
   "cell_type": "markdown",
   "metadata": {},
   "source": [
    "L'index négatif peut être utilisé pour parti de la fin plutôt que du début d'une liste. \n",
    "* Accèdez à la dernière rangée\n"
   ]
  },
  {
   "cell_type": "code",
   "execution_count": null,
   "metadata": {},
   "outputs": [],
   "source": []
  },
  {
   "cell_type": "markdown",
   "metadata": {},
   "source": [
    "On peut aussi utiliser l'index négatif pour définir des intervales avec l'opérateur «`:`». Cela s'applique autant pour les index des listes python que pour les `array` numpy.\n",
    "* Utilisez judicieusement l'index pour accèder à la rangée 23 et toutes ses colonnes sauf la dernière"
   ]
  },
  {
   "cell_type": "code",
   "execution_count": null,
   "metadata": {},
   "outputs": [],
   "source": []
  },
  {
   "cell_type": "markdown",
   "metadata": {},
   "source": [
    "### Quelques fonctions utiles de numpy"
   ]
  },
  {
   "cell_type": "markdown",
   "metadata": {},
   "source": [
    "Nous poursuivons avec le jeu de données iris (cf section précédente). Assurez-vous que vous comprenez les fonctions suivantes en les exécutant. Elles seront utiles pour la suite."
   ]
  },
  {
   "cell_type": "markdown",
   "metadata": {},
   "source": [
    "**sum** : Somme des éléments d'un vecteur/matrice        \n",
    "> `axis` spécifie sur quelle \"dimension\" il faut faire l'opération"
   ]
  },
  {
   "cell_type": "code",
   "execution_count": null,
   "metadata": {},
   "outputs": [],
   "source": [
    "np.sum(iris)\n",
    "np.sum(iris,axis=0)\n",
    "np.sum(iris,axis=1) "
   ]
  },
  {
   "cell_type": "markdown",
   "metadata": {},
   "source": [
    "**min**, **max** : Valeure(s) minimale(s) ou maximale(s) d'un vecteur/matrice\n",
    "> Véfiriez l'effet d'`axis` dans ce cas ci"
   ]
  },
  {
   "cell_type": "code",
   "execution_count": null,
   "metadata": {},
   "outputs": [],
   "source": [
    "np.min(iris)\n",
    "np.min(iris,axis=1)\n",
    "np.min(iris,axis=0)\n",
    "\n",
    "np.max(iris,axis=0)"
   ]
  },
  {
   "cell_type": "markdown",
   "metadata": {},
   "source": [
    "**argmax**, **argmin** : Index de(s) valeur(s) minimale(s) ou maximale(s) d'un vecteur/matrice"
   ]
  },
  {
   "cell_type": "code",
   "execution_count": null,
   "metadata": {},
   "outputs": [],
   "source": [
    "np.argmin(iris)\n",
    "np.argmin(iris,axis=1)\n",
    "np.argmin(iris,axis=0)\n",
    "\n",
    "np.argmax(iris,axis=0)"
   ]
  },
  {
   "cell_type": "markdown",
   "metadata": {},
   "source": [
    "**abs** : Valeur absolue"
   ]
  },
  {
   "cell_type": "code",
   "execution_count": null,
   "metadata": {},
   "outputs": [],
   "source": [
    "np.abs(iris[:,1:4])"
   ]
  },
  {
   "cell_type": "markdown",
   "metadata": {},
   "source": [
    "** \\*\\* ** : exposant"
   ]
  },
  {
   "cell_type": "code",
   "execution_count": null,
   "metadata": {},
   "outputs": [],
   "source": [
    "iris[0,:-1]**4.5"
   ]
  },
  {
   "cell_type": "markdown",
   "metadata": {},
   "source": [
    "** shuffle ** : Trier aléatoirement les éléments d'une séquence/vecteur\n",
    "\n"
   ]
  },
  {
   "cell_type": "code",
   "execution_count": null,
   "metadata": {},
   "outputs": [],
   "source": [
    "seq = np.arange(10)\n",
    "np.random.shuffle(seq)"
   ]
  },
  {
   "cell_type": "markdown",
   "metadata": {},
   "source": [
    "Il y a beaucoup d'autres fonctions mathématiques utiles : numpy.mean, numpy.std, numpy.cov, numpy.dot, numpy.invert, numpy.unique, numpy.vsplit, numpy.vstack, numpy.hsplit, numpy.hstack. Testez les pour mieux les comprendres ou regardez la [documentation](http://docs.scipy.org/doc/numpy/reference/index.html)"
   ]
  },
  {
   "cell_type": "code",
   "execution_count": null,
   "metadata": {},
   "outputs": [],
   "source": []
  },
  {
   "cell_type": "markdown",
   "metadata": {},
   "source": [
    "# Dessiner des fleurs avec Matplotlib"
   ]
  },
  {
   "cell_type": "markdown",
   "metadata": {},
   "source": [
    "La librairie `matplotlib` sert à créer des graphiques. Voici différentes fonction pratiques pour visualiser un ensemble de données comme `iris`.\n",
    "\n",
    "Si on veut afficher des graphiques à l'intérieur d'un notebook, il est important d'ajouter la ligne suivante qui sera valide pour toute les cellules de code suivantes. "
   ]
  },
  {
   "cell_type": "code",
   "execution_count": null,
   "metadata": {},
   "outputs": [],
   "source": [
    "%pylab inline"
   ]
  },
  {
   "cell_type": "markdown",
   "metadata": {},
   "source": [
    "Histogramme d'éléments d'un vecteur"
   ]
  },
  {
   "cell_type": "code",
   "execution_count": null,
   "metadata": {},
   "outputs": [],
   "source": [
    "import pylab\n",
    "pylab.hist(iris[:,2])"
   ]
  },
  {
   "cell_type": "markdown",
   "metadata": {},
   "source": [
    "Afficher un nuage de points (\"scatterplot\")"
   ]
  },
  {
   "cell_type": "code",
   "execution_count": null,
   "metadata": {},
   "outputs": [],
   "source": [
    "pylab.scatter(iris[:,2],iris[:,3])"
   ]
  },
  {
   "cell_type": "markdown",
   "metadata": {},
   "source": [
    "Afficher un nuage de points (\"scatterplot\")"
   ]
  },
  {
   "cell_type": "code",
   "execution_count": null,
   "metadata": {},
   "outputs": [],
   "source": [
    "pylab.scatter(iris[:,2],iris[:,3],c=iris[:,-1])"
   ]
  },
  {
   "cell_type": "markdown",
   "metadata": {},
   "source": [
    "Exemple plus compliqué"
   ]
  },
  {
   "cell_type": "code",
   "execution_count": null,
   "metadata": {},
   "outputs": [],
   "source": [
    "support = linspace(-3,3,100) # linspace va generer un vecteur de 100 nombres entre -3 et 3\n",
    "fn = sin(support) \n",
    "bruit = randn(100)*0.1 # bruit Gaussien, moyenne=0, variance= sqrt(0.1)\n",
    "pylab.plot(support, fn) \n",
    "pylab.plot(support, fn + bruit,'--')\n",
    "pylab.grid(True) # affiche un grille\n",
    "pylab.xlabel('x')\n",
    "pylab.ylabel('f')\n",
    "pylab.legend(('f(x) sans bruit','f(x) avec bruit'))"
   ]
  },
  {
   "cell_type": "markdown",
   "metadata": {},
   "source": [
    "### Ce n'est qu'un début\n",
    "\n",
    "Vous possédez maintenant quelques notions de base, mais il vous faudra davantage pour être à l'aise. Il vous faut donc adopter une approche exploratrice: feuilletez les tutoriels!"
   ]
  },
  {
   "cell_type": "code",
   "execution_count": null,
   "metadata": {},
   "outputs": [],
   "source": []
  }
 ],
 "metadata": {
  "kernelspec": {
   "display_name": "Python 3",
   "language": "python",
   "name": "python3"
  },
  "language_info": {
   "codemirror_mode": {
    "name": "ipython",
    "version": 3
   },
   "file_extension": ".py",
   "mimetype": "text/x-python",
   "name": "python",
   "nbconvert_exporter": "python",
   "pygments_lexer": "ipython3",
   "version": "3.6.6"
  }
 },
 "nbformat": 4,
 "nbformat_minor": 1
}
