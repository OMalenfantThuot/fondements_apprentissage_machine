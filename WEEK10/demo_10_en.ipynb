{
 "cells": [
  {
   "cell_type": "markdown",
   "metadata": {
    "colab_type": "text",
    "id": "ZrhnR4W-dD7R"
   },
   "source": [
    "# Demo 10 - Intro to PyTorch\n",
    "\n",
    "Previously, we've been using `numpy` to do mathematical calculations and make our statistical machine learning models run quickly. But now, we'll be looking at neural networks, where we will want to mostly calculate lots and lots of neurons. Since our neurons are usually in the form $f(x) = h(wx + b)$ we tend to deal with __large matrix multiplications__ (as well as additions, etc...). Since our standard method of training is SGD, with mini-batches, we want to do these matrix multiplications across our whole batch, and the fastest way to do that is in __parallel__. The best hardware for that isn't the CPU we're used to working with but a __GPU!__ There are a number of libraries that are useful for creating neural networks and running them on GPU (Keras/Tensorflow, Chainer,...) but we will be using `PyTorch` (version 0.4.1 at this time)"
   ]
  },
  {
   "cell_type": "code",
   "execution_count": 1,
   "metadata": {
    "colab": {
     "base_uri": "https://localhost:8080/",
     "height": 54
    },
    "colab_type": "code",
    "id": "C7F1qZIhBnHM",
    "outputId": "ca3f32d6-5c7f-4e52-beb4-926d4f244f79"
   },
   "outputs": [
    {
     "name": "stdout",
     "output_type": "stream",
     "text": [
      "tcmalloc: large alloc 1073750016 bytes == 0x58128000 @  0x7fd8ffaec2a4 0x594e17 0x626104 0x51190a 0x4f5277 0x510c78 0x5119bd 0x4f5277 0x4f3338 0x510fb0 0x5119bd 0x4f5277 0x4f3338 0x510fb0 0x5119bd 0x4f5277 0x4f3338 0x510fb0 0x5119bd 0x4f6070 0x510c78 0x5119bd 0x4f5277 0x4f3338 0x510fb0 0x5119bd 0x4f6070 0x4f3338 0x510fb0 0x5119bd 0x4f6070\n"
     ]
    }
   ],
   "source": [
    "# http://pytorch.org/\n",
    "from os.path import exists\n",
    "from wheel.pep425tags import get_abbr_impl, get_impl_ver, get_abi_tag\n",
    "platform = '{}{}-{}'.format(get_abbr_impl(), get_impl_ver(), get_abi_tag())\n",
    "cuda_output = !ldconfig -p|grep cudart.so|sed -e 's/.*\\.\\([0-9]*\\)\\.\\([0-9]*\\)$/cu\\1\\2/'\n",
    "accelerator = cuda_output[0] if exists('/dev/nvidia0') else 'cpu'\n",
    "\n",
    "!pip install -q http://download.pytorch.org/whl/{accelerator}/torch-0.4.1-{platform}-linux_x86_64.whl torchvision\n",
    "import torch"
   ]
  },
  {
   "cell_type": "code",
   "execution_count": 2,
   "metadata": {
    "colab": {
     "base_uri": "https://localhost:8080/",
     "height": 51
    },
    "colab_type": "code",
    "id": "5r0Igs2m3VIj",
    "outputId": "5a11dd9a-4497-4ceb-e210-d217848c3519"
   },
   "outputs": [
    {
     "name": "stdout",
     "output_type": "stream",
     "text": [
      "Populating the interactive namespace from numpy and matplotlib\n",
      "0.4.1\n"
     ]
    }
   ],
   "source": [
    "%pylab inline\n",
    "import torch\n",
    "print(torch.__version__)"
   ]
  },
  {
   "cell_type": "markdown",
   "metadata": {
    "colab_type": "text",
    "id": "gk2j_j62dQ7C"
   },
   "source": [
    "## PyTorch Tensors\n",
    "\n",
    "Whereas `numpy` used `np.array` as the basic data structure, in `PyTorch` we will use the similar `torch.Tensor` which you can think of in the same way. The big difference is that `torch.Tensor` can also be moved to the GPU, where they use a library called `CUDA` under the hood to do calculations"
   ]
  },
  {
   "cell_type": "code",
   "execution_count": 13,
   "metadata": {
    "colab": {
     "base_uri": "https://localhost:8080/",
     "height": 68
    },
    "colab_type": "code",
    "id": "BUvUjxTBB_6Z",
    "outputId": "dc4f80df-3627-406e-8998-262c1b12d3eb"
   },
   "outputs": [
    {
     "name": "stdout",
     "output_type": "stream",
     "text": [
      "tensor([[-19.6813],\n",
      "        [  3.9409],\n",
      "        [  6.3966]])\n"
     ]
    }
   ],
   "source": [
    "a = torch.Tensor([1,2,3])\n",
    "W = torch.randn(3,3)\n",
    "b = torch.Tensor([4,5,6]).view(3,1)\n",
    "print(W.mm(b))"
   ]
  },
  {
   "cell_type": "code",
   "execution_count": 15,
   "metadata": {
    "colab": {
     "base_uri": "https://localhost:8080/",
     "height": 68
    },
    "colab_type": "code",
    "id": "dySf1UboCDOA",
    "outputId": "7d37c08a-50c1-453a-adab-10a54834db51"
   },
   "outputs": [
    {
     "name": "stdout",
     "output_type": "stream",
     "text": [
      "tensor([[ 6.,  7.,  8.],\n",
      "        [ 7.,  8.,  9.],\n",
      "        [ 8.,  9., 10.]], device='cuda:0')\n"
     ]
    }
   ],
   "source": [
    "device = torch.device('cuda:0')    # we use 0 to specify the first GPU\n",
    "a = a.to(device)\n",
    "b = b.to(device)\n",
    "c = torch.ones(3, device=device)\n",
    "print(a + b + c)"
   ]
  },
  {
   "cell_type": "markdown",
   "metadata": {
    "colab_type": "text",
    "id": "WtLqbeuK3Z1k"
   },
   "source": [
    "## Iris Classification in PyTorch\n",
    "\n",
    "Let's load  `iris.txt` using the `sklearn` library, we can then preprocess the labels and convert them to one hot encoding"
   ]
  },
  {
   "cell_type": "code",
   "execution_count": null,
   "metadata": {
    "colab": {},
    "colab_type": "code",
    "id": "gOd_eF_XGjXx"
   },
   "outputs": [],
   "source": [
    "from sklearn import datasets\n",
    "from sklearn.model_selection import train_test_split\n",
    "from sklearn.preprocessing import OneHotEncoder\n",
    "\n",
    "iris = datasets.load_iris()\n",
    "\n",
    "# separate into train/test using sklearn\n",
    "(x_train, x_test, y_train, y_test) = train_test_split(iris.data, iris.target)\n",
    "\n",
    "num_train = x_train.shape[0]\n",
    "num_test = x_test.shape[0]\n",
    "num_features = x_train.shape[1]\n",
    "num_classes = 3\n",
    "\n",
    "# lets also convert our targets y to a one-hot encoding \n",
    "# e.g. 1 -> [0, 1, 0], 2 -> [0, 0 ,1]  \n",
    "one_hot = OneHotEncoder(n_values=num_classes, sparse=False)\n",
    "y_train = one_hot.fit_transform(y_train.reshape(-1,1))\n",
    "y_test = one_hot.transform(y_test.reshape(-1,1))"
   ]
  },
  {
   "cell_type": "markdown",
   "metadata": {
    "colab_type": "text",
    "id": "LUWh1dyGug-z"
   },
   "source": [
    "Finally, we'll convert our data to `torch.Tensor` representations, and because we can only have operations between arguments of the same type so lets make everything a `float` as well"
   ]
  },
  {
   "cell_type": "code",
   "execution_count": null,
   "metadata": {
    "colab": {},
    "colab_type": "code",
    "id": "JsZ2iGrIukbh"
   },
   "outputs": [],
   "source": [
    "x_train = torch.from_numpy(x_train).float().to(device)\n",
    "x_test = torch.from_numpy(x_test).float().to(device)\n",
    "y_train = torch.from_numpy(y_train).float().to(device)\n",
    "y_test = torch.from_numpy(y_test).float().to(device)"
   ]
  },
  {
   "cell_type": "markdown",
   "metadata": {
    "colab_type": "text",
    "id": "aHACEOnH61N_"
   },
   "source": [
    "Now let's implement the logistic regression with gradient descent that we've used before, using the  mean squared loss for simplicity"
   ]
  },
  {
   "cell_type": "code",
   "execution_count": null,
   "metadata": {
    "colab": {
     "base_uri": "https://localhost:8080/",
     "height": 297
    },
    "colab_type": "code",
    "id": "8wUoMZLt95O8",
    "outputId": "73962de8-afbf-4b79-9ba2-4699732c804a"
   },
   "outputs": [
    {
     "data": {
      "text/plain": [
       "Text(0,0.5,'mean squared error')"
      ]
     },
     "execution_count": 8,
     "metadata": {
      "tags": []
     },
     "output_type": "execute_result"
    },
    {
     "data": {
      "image/png": "[encoded data removed]",
      "text/plain": [
       "<matplotlib.figure.Figure at 0x7f2c99d43ac8>"
      ]
     },
     "metadata": {
      "tags": []
     },
     "output_type": "display_data"
    }
   ],
   "source": [
    "torch.manual_seed(0)\n",
    "torch.cuda.manual_seed(0)\n",
    "# changed to a torch tensor\n",
    "weights = torch.randn(num_features, num_classes, device=device)\n",
    "\n",
    "learning_rate = 2e-5\n",
    "num_epochs = 500\n",
    "losses = []\n",
    "manual_grads = []\n",
    "\n",
    "for epoch in range(num_epochs):\n",
    "    # numpy matrix multiplication becomes torch.mm\n",
    "    logits = torch.mm(x_train, weights)\n",
    "    loss = (logits - y_train).pow(2).mean()\n",
    "\n",
    "    # .item() gives us the python value of a pytorch scalar\n",
    "    losses.append(loss.item())\n",
    "\n",
    "    grad_preds = 2.0 * (logits - y_train)\n",
    "    grad_w = torch.mm(x_train.t(), grad_preds) / (num_train * num_classes)\n",
    "    weights -= learning_rate * grad_w\n",
    "    \n",
    "    # .tolist() gives us the python list of lists for a pytorch tensor\n",
    "    manual_grads.append(grad_w.tolist())\n",
    "\n",
    "    \n",
    "plot(range(num_epochs), losses)\n",
    "xlabel('epochs')\n",
    "ylabel('mean squared error')"
   ]
  },
  {
   "cell_type": "markdown",
   "metadata": {
    "colab_type": "text",
    "id": "ZsKetd5DheWc"
   },
   "source": [
    "## PyTorch Autograd\n",
    "\n",
    "\n"
   ]
  },
  {
   "cell_type": "markdown",
   "metadata": {
    "colab_type": "text",
    "id": "Lt2dT6JclXDT"
   },
   "source": [
    "Now so far we've just manually calculated the gradients and done backpropogation for only a single weight matrix. But this can get much more complicated for deeper and more complex neural network models. To this end, we'd like to just build our neural network and have our library calculate the gradients necessary for backpropogation itself! `PyTorch` does this with `autograd` which keeps track of all your operations and the gradients associated with them.\n",
    "\n",
    "To do this, we set `requires_grad = True` for the tensors we want to keep track of, and call `loss.backward()` to populate the `.grad` part of each tensor. In our case, this would be the `weights`. Let's rewrite our simple example but this time, calculating the gradients automatically."
   ]
  },
  {
   "cell_type": "code",
   "execution_count": null,
   "metadata": {
    "colab": {
     "base_uri": "https://localhost:8080/",
     "height": 296
    },
    "colab_type": "code",
    "id": "1_c-VJW8auzR",
    "outputId": "d629fb07-c6c6-4146-8cd8-46174b5bf6c9"
   },
   "outputs": [
    {
     "data": {
      "text/plain": [
       "Text(0,0.5,'mean squared loss')"
      ]
     },
     "execution_count": 12,
     "metadata": {
      "tags": []
     },
     "output_type": "execute_result"
    },
    {
     "data": {
      "image/png": "[encoded data removed]",
      "text/plain": [
       "<matplotlib.figure.Figure at 0x7f3f81982320>"
      ]
     },
     "metadata": {
      "tags": []
     },
     "output_type": "display_data"
    }
   ],
   "source": [
    "torch.manual_seed(0)\n",
    "torch.cuda.manual_seed(0)\n",
    "# set requires_grad = True to track the gradients\n",
    "weights = torch.randn(num_features, num_classes, device=device, requires_grad=True)\n",
    "\n",
    "learning_rate = 2e-5\n",
    "num_epochs = 500\n",
    "losses = []\n",
    "auto_grads = []\n",
    "\n",
    "for epoch in range(num_epochs):\n",
    "    preds = torch.mm(x_train, weights)\n",
    "    loss = (preds - y_train).pow(2).mean()\n",
    "    losses.append(loss.item())\n",
    "\n",
    "    loss.backward()\n",
    "    \n",
    "    # make sure not to change gradients when using them to update\n",
    "    with torch.no_grad():\n",
    "      # access the gradient with weights.grad\n",
    "      weights -= learning_rate * weights.grad\n",
    "      auto_grads.append(weights.grad.tolist())\n",
    "      \n",
    "      # make sure to reset the gradient to 0 for our next calculation\n",
    "      weights.grad.zero_()\n",
    "\n",
    "    \n",
    "plot(range(num_epochs), losses)\n",
    "xlabel('epochs')\n",
    "ylabel('mean squared loss')"
   ]
  },
  {
   "cell_type": "markdown",
   "metadata": {
    "colab_type": "text",
    "id": "nadSxuGp7o9d"
   },
   "source": [
    "We can confirm that our automatic gradients are the same as the ones we calculate manually"
   ]
  },
  {
   "cell_type": "code",
   "execution_count": null,
   "metadata": {
    "colab": {
     "base_uri": "https://localhost:8080/",
     "height": 34
    },
    "colab_type": "code",
    "id": "_baz3Plm7wMS",
    "outputId": "1f9d3ff7-7a0b-4927-dfe9-e5598d76099c"
   },
   "outputs": [
    {
     "name": "stdout",
     "output_type": "stream",
     "text": [
      "Are all gradients very similar?  True\n"
     ]
    }
   ],
   "source": [
    "import numpy as np\n",
    "auto = np.array(auto_grads)\n",
    "manual = np.array(manual_grads)\n",
    "print('Are all gradients very similar? ', np.allclose(auto, manual))"
   ]
  },
  {
   "cell_type": "markdown",
   "metadata": {
    "colab_type": "text",
    "id": "nN81u_n-LPN1"
   },
   "source": [
    "## PyTorch Optimizers\n",
    "\n",
    "We can make our code even simpler by letting the library do the gradient updates as well! Using `torch.optim` we can choose from a variety of optimization strategies, and in this case, we can use regular `SGD`. We have to specify all the parameters we wish to optimize, so in this case it is just `weights`"
   ]
  },
  {
   "cell_type": "code",
   "execution_count": null,
   "metadata": {
    "colab": {
     "base_uri": "https://localhost:8080/",
     "height": 296
    },
    "colab_type": "code",
    "id": "lzPiBADI77OT",
    "outputId": "34289295-23a5-41e7-cacb-02d9e27a570c"
   },
   "outputs": [
    {
     "data": {
      "text/plain": [
       "Text(0,0.5,'mean squared loss')"
      ]
     },
     "execution_count": 16,
     "metadata": {
      "tags": []
     },
     "output_type": "execute_result"
    },
    {
     "data": {
      "image/png": "[encoded data removed]",
      "text/plain": [
       "<matplotlib.figure.Figure at 0x7f3f20559198>"
      ]
     },
     "metadata": {
      "tags": []
     },
     "output_type": "display_data"
    }
   ],
   "source": [
    "torch.manual_seed(0)\n",
    "torch.cuda.manual_seed(0)\n",
    "weights = torch.randn(num_features, num_classes, device=device, requires_grad=True)\n",
    "\n",
    "learning_rate = 2e-5\n",
    "# set the optimizer\n",
    "optimizer = torch.optim.SGD([weights], lr=learning_rate)\n",
    "num_epochs = 500\n",
    "losses = []\n",
    "\n",
    "for epoch in range(num_epochs):\n",
    "    preds = torch.mm(x_train, weights)\n",
    "    loss = (preds - y_train).pow(2).mean()\n",
    "\n",
    "    losses.append(loss.item())\n",
    "\n",
    "    # make sure to reset the gradients to 0 before calculation\n",
    "    optimizer.zero_grad()\n",
    "    \n",
    "    loss.backward()\n",
    "    \n",
    "    # update our parameter with SGD\n",
    "    optimizer.step()\n",
    "    \n",
    "    \n",
    "\n",
    "    \n",
    "plot(range(num_epochs), losses)\n",
    "xlabel('epochs')\n",
    "ylabel('mean squared loss')"
   ]
  },
  {
   "cell_type": "markdown",
   "metadata": {
    "colab_type": "text",
    "id": "owq_-1znN401"
   },
   "source": [
    "## PyTorch NN\n",
    "\n",
    "Now nearly everything is in place, except it would still be a bit of a hassle to explicitly write out all the weights, biases, and other parameters we want to optimize. This is especially true since there are a lot of very common neural network building blocks that we use all the time. The `torch.nn` part of the libary is exactly that! It gives us all the tools to write our models at a higher level, going over the small details\n",
    "\n",
    "Here, we will replace:\n",
    "- `weights` with `nn.Linear` layer\n",
    "- our optimizer's listing of parameters with `model.parameters()` \n",
    "- our manual loss calculation with `nn.MSELoss`\n"
   ]
  },
  {
   "cell_type": "code",
   "execution_count": null,
   "metadata": {
    "colab": {
     "base_uri": "https://localhost:8080/",
     "height": 296
    },
    "colab_type": "code",
    "id": "Augli26N8uFl",
    "outputId": "d130969d-059c-4d8f-a999-0c5ff10b3580"
   },
   "outputs": [
    {
     "data": {
      "text/plain": [
       "Text(0,0.5,'mean squared loss')"
      ]
     },
     "execution_count": 17,
     "metadata": {
      "tags": []
     },
     "output_type": "execute_result"
    },
    {
     "data": {
      "image/png": "[encoded data removed]",
      "text/plain": [
       "<matplotlib.figure.Figure at 0x7f3f236624e0>"
      ]
     },
     "metadata": {
      "tags": []
     },
     "output_type": "display_data"
    }
   ],
   "source": [
    "torch.manual_seed(0)\n",
    "torch.cuda.manual_seed(0)\n",
    "\n",
    "# define your model\n",
    "model = torch.nn.Linear(num_features, num_classes).to(device)\n",
    "# choose a loss function\n",
    "loss_fn = torch.nn.MSELoss()\n",
    "\n",
    "num_epochs = 500\n",
    "learning_rate = 2e-5\n",
    "# automatically find all your model's parameters\n",
    "optimizer = torch.optim.SGD(model.parameters(), lr=learning_rate)\n",
    "\n",
    "losses = []\n",
    "\n",
    "for epoch in range(num_epochs):\n",
    "    preds = model(x_train)\n",
    "    loss = loss_fn(preds, y_train)\n",
    "\n",
    "    losses.append(loss.item())\n",
    "\n",
    "    optimizer.zero_grad()\n",
    "    loss.backward()\n",
    "    optimizer.step()    \n",
    "\n",
    "    \n",
    "plot(range(num_epochs), losses)\n",
    "xlabel('epochs')\n",
    "ylabel('mean squared loss')"
   ]
  },
  {
   "cell_type": "markdown",
   "metadata": {
    "colab_type": "text",
    "id": "WqOeu26nQ3Ql"
   },
   "source": [
    "## PyTorch nn.Sequential\n",
    "If we want more than one module/layer in a row, can put those layers together in [nn.Sequential](https://pytorch.org/docs/stable/nn.html?#sequential), which wraps them and turns them into one big module"
   ]
  },
  {
   "cell_type": "code",
   "execution_count": null,
   "metadata": {
    "colab": {
     "base_uri": "https://localhost:8080/",
     "height": 296
    },
    "colab_type": "code",
    "id": "HIApAoCqQ3gc",
    "outputId": "a15d34b4-af59-429f-99da-ca6920437f31"
   },
   "outputs": [
    {
     "data": {
      "text/plain": [
       "Text(0,0.5,'mean squared loss')"
      ]
     },
     "execution_count": 18,
     "metadata": {
      "tags": []
     },
     "output_type": "execute_result"
    },
    {
     "data": {
      "image/png": "[encoded data removed]",
      "text/plain": [
       "<matplotlib.figure.Figure at 0x7f3f204fac88>"
      ]
     },
     "metadata": {
      "tags": []
     },
     "output_type": "display_data"
    }
   ],
   "source": [
    "torch.manual_seed(0)\n",
    "torch.cuda.manual_seed(0)\n",
    "\n",
    "model = torch.nn.Sequential(\n",
    "    torch.nn.Linear(num_features, 4),\n",
    "    torch.nn.Linear(4, num_classes)\n",
    ").to(device)\n",
    "    \n",
    "loss_fn = torch.nn.MSELoss()\n",
    "\n",
    "num_epochs = 500\n",
    "learning_rate = 2e-5\n",
    "optimizer = torch.optim.SGD(model.parameters(), lr=learning_rate)\n",
    "\n",
    "losses = []\n",
    "\n",
    "for epoch in range(num_epochs):\n",
    "    preds = model(x_train)\n",
    "    loss = loss_fn(preds, y_train)\n",
    "\n",
    "    losses.append(loss.item())\n",
    "\n",
    "    optimizer.zero_grad()\n",
    "    loss.backward()\n",
    "    optimizer.step()    \n",
    "\n",
    "    \n",
    "plot(range(num_epochs), losses)\n",
    "xlabel('epochs')\n",
    "ylabel('mean squared loss')"
   ]
  },
  {
   "cell_type": "markdown",
   "metadata": {
    "colab_type": "text",
    "id": "r3ym7c7DTNdN"
   },
   "source": [
    "## Challenge\n",
    "\n",
    "We're now doing really well on the `iris` dataset mainly because it is so simple and neural networks are so powerful! Let's work on something a bit harder, and try our hands on the [`MNIST` dataset](https://en.wikipedia.org/wiki/MNIST_database). This dataset is one of the foundational datasets in computer vision!\n",
    "\n",
    "There are 60,000 training and 10,000 test images. The input images are handwritten digits (0 - 9) in a 28x28 pixel grayscale image. This means the input is a Tensor of size `60000 x 28 x 28` where each value is an \"intensity\" (how dark the pixel is) number between 0 and 255 (inclusive) . The output is the number that this handwritten image is showing, so between 0 and 9.\n",
    "\n",
    "\n",
    "We will revisit this later, so you don't need the details and most everything is set up but play around with the model, learning rate, and loss function to try and get as small an error as possible.\n",
    "\n",
    "Here's some hints:\n",
    "1. see the difference in speed between \"cpu\" and \"cuda\"\n",
    "2. we changed the loss function to be softmax cross entropy (look [here](https://pytorch.org/docs/stable/nn.html?#loss-functions))\n",
    "3. don't have too many layers (2-3 should be enough! ) but make sure to have enough hidden units (try making them all 100, then try varying each layer's individually)\n",
    "4. put some [non-linearities](https://pytorch.org/docs/stable/nn.html#non-linear-activations-weighted-sum-nonlinearity) in between your linear layers \n",
    "4. look at your training and validation curve! remember important lessons about under/overfitting"
   ]
  },
  {
   "cell_type": "code",
   "execution_count": null,
   "metadata": {
    "colab": {},
    "colab_type": "code",
    "id": "_QtPUOAhQWaC"
   },
   "outputs": [],
   "source": [
    "### CODE MODIFIED FROM PYTORCH EXAMPLE REPO ###\n",
    "\n",
    "import torch\n",
    "import torch.nn as nn\n",
    "import torch.nn.functional as F\n",
    "import torch.optim as optim\n",
    "from torchvision import datasets, transforms\n",
    "\n",
    "class Flatten(nn.Module):\n",
    "  def forward(self, input):\n",
    "    return input.view(input.size(0), -1)\n",
    "\n",
    "flatten = Flatten()\n",
    "\n",
    "def train(model, device, train_loader, optimizer, epoch, loss_fn):\n",
    "    model.train()\n",
    "    for batch_idx, (data, target) in enumerate(train_loader):\n",
    "        data, target = data.to(device), target.to(device)\n",
    "        optimizer.zero_grad()\n",
    "        output = model(flatten(data))\n",
    "        loss = loss_fn(output, target)\n",
    "        loss.backward()\n",
    "        optimizer.step()\n",
    "        if batch_idx % 10 == 0:\n",
    "            print('Train Epoch: {} [{}/{} ({:.0f}%)]\\tLoss: {:.6f}'.format(\n",
    "                epoch, batch_idx * len(data), len(train_loader.dataset),\n",
    "                100. * batch_idx / len(train_loader), loss.item()))\n",
    "\n",
    "def test(model, device, test_loader, loss_fn):\n",
    "    model.eval()\n",
    "    test_loss = 0\n",
    "    correct = 0\n",
    "    with torch.no_grad():\n",
    "        for data, target in test_loader:\n",
    "            data, target = data.to(device), target.to(device)\n",
    "            output = model(flatten(data))\n",
    "            test_loss += loss_fn(output, target).item() # sum up batch loss\n",
    "            pred = output.max(1, keepdim=True)[1] # get the index of the max log-probability\n",
    "            correct += pred.eq(target.view_as(pred)).sum().item()\n",
    "\n",
    "    test_loss /= len(test_loader.dataset)\n",
    "    print('\\nTest set: Average loss: {:.4f}, Accuracy: {}/{} ({:.0f}%)\\n'.format(\n",
    "        test_loss, correct, len(test_loader.dataset),\n",
    "        100. * correct / len(test_loader.dataset)))\n",
    "    \n",
    "    \n",
    "# HYPERPARAMETERS TO PLAY WITH\n",
    "    \n",
    "device = torch.device(\"cuda\")\n",
    "# device = torch.device(\"cpu\")\n",
    "\n",
    "learning_rate = 0.01\n",
    "batch_size = 64\n",
    "epochs = 5\n",
    "\n",
    "model = nn.Sequential(\n",
    "    nn.Linear(784, 50),\n",
    "    nn.Linear(50, 50),\n",
    "    nn.Linear(50, 10),\n",
    ").to(device)\n",
    "\n",
    "\n",
    "optimizer = optim.SGD(model.parameters(), lr=learning_rate)\n",
    "\n",
    "\n",
    "test_batch_size = 1000\n",
    "loss_fn = nn.CrossEntropyLoss()\n",
    "test_loss_fn = nn.CrossEntropyLoss(reduction='sum')\n",
    "\n",
    "\n",
    "# data loading\n",
    "\n",
    "train_loader = torch.utils.data.DataLoader(\n",
    "    datasets.MNIST('../data', train=True, download=True,\n",
    "                   transform=transforms.Compose([\n",
    "                       transforms.ToTensor(),\n",
    "                       transforms.Normalize((0.1307,), (0.3081,))\n",
    "                   ])),\n",
    "    batch_size=batch_size, shuffle=True)\n",
    "test_loader = torch.utils.data.DataLoader(\n",
    "    datasets.MNIST('../data', train=False, transform=transforms.Compose([\n",
    "                       transforms.ToTensor(),\n",
    "                       transforms.Normalize((0.1307,), (0.3081,))\n",
    "                   ])),\n",
    "    batch_size=test_batch_size, shuffle=True)\n",
    "\n",
    "# training\n",
    "\n",
    "for epoch in range(1, epochs):\n",
    "  train(model, device, train_loader, optimizer, epoch, loss_fn)\n",
    "  test(model, device, test_loader, test_loss_fn)\n"
   ]
  },
  {
   "cell_type": "code",
   "execution_count": null,
   "metadata": {
    "colab": {},
    "colab_type": "code",
    "id": "hF9KzMVoWPuq"
   },
   "outputs": [],
   "source": []
  }
 ],
 "metadata": {
  "accelerator": "GPU",
  "colab": {
   "name": "demo 10 en.ipynb",
   "provenance": [],
   "version": "0.3.2"
  },
  "kernelspec": {
   "display_name": "Python 3",
   "language": "python",
   "name": "python3"
  },
  "language_info": {
   "codemirror_mode": {
    "name": "ipython",
    "version": 3
   },
   "file_extension": ".py",
   "mimetype": "text/x-python",
   "name": "python",
   "nbconvert_exporter": "python",
   "pygments_lexer": "ipython3",
   "version": "3.6.6"
  }
 },
 "nbformat": 4,
 "nbformat_minor": 2
}
