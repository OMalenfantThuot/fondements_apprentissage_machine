{
 "cells": [
  {
   "cell_type": "markdown",
   "metadata": {},
   "source": [
    "# The Perceptron\n",
    "\n",
    "In this lab session, you will implement a famous classification algorithm: the perceptron.\n",
    "The model is a follows:\n",
    "\n",
    "$$f(x) = h(\\pmb{w}^T x + b)$$ \n",
    "\n",
    "where\n",
    "\n",
    "$$ \n",
    " h(a) = \\left\\{ \n",
    "  \\begin{array}{l l}\n",
    "    ~1 & \\quad \\text{if} ~ a > 0\\\\\n",
    "    -1 & \\quad \\text{otherwise}\n",
    "  \\end{array} \\right. $$\n",
    "\n",
    "and $x$ is an example to classify, \n",
    "$\\pmb{w}$ is a weight vector with same dimension a $x$\n",
    "and $b$ is a scalar bias.\n",
    "$\\pmb{w}$ and $b$ are the parameters we have to learn.\n",
    "\n",
    "## Learning the parameters\n",
    "*In this section, you will calculate the update formula for the parameters $\\pmb{w}$ and $b$*\n",
    "\n",
    "### Objective function\n",
    "\n",
    "The perceptron learning algorithm is a stochastic gradient descent on the following objective:\n",
    "\n",
    "$$J_{perceptron}(\\pmb{w}, b) = \\frac{1}{n} \\sum_{i=1}^n \\max(0, -(\\pmb{w}^T x^{(i)} + b)t^{(i)}) )$$\n",
    "\n",
    "Note that this objective is always non-negative.\n",
    "The function $z \\mapsto \\max(0, -z)$ is plotted below.\n",
    "\n",
    "Interpretation of the objective: for each misclassified example, e.g. $(\\pmb{w}^T x^{(i)} + b)t^{(i)} <0$, we add the classification error $|\\pmb{w}^T x^{(i)} + b| = -(\\pmb{w}^T x^{(i)} + b)t^{(i)}$ to the objective.\n",
    "If we decrease the value of the objective function, then we decrease the total error, which will end up reducing the number of misclassified examples. We will end up with a better classifier."
   ]
  },
  {
   "cell_type": "code",
   "execution_count": 1,
   "metadata": {},
   "outputs": [
    {
     "data": {
      "text/plain": [
       "[<matplotlib.lines.Line2D at 0x7fb41b864e80>]"
      ]
     },
     "execution_count": 1,
     "metadata": {},
     "output_type": "execute_result"
    },
    {
     "data": {
      "image/png": "[encoded data removed]",
      "text/plain": [
       "<Figure size 432x288 with 1 Axes>"
      ]
     },
     "metadata": {},
     "output_type": "display_data"
    }
   ],
   "source": [
    "import numpy as np\n",
    "import matplotlib.pyplot as plt\n",
    "%matplotlib inline\n",
    "plt.style.use('seaborn-whitegrid')\n",
    "\n",
    "xx = np.linspace(-2,2, 1000)\n",
    "plt.plot(xx, np.maximum(0, -xx))"
   ]
  },
  {
   "cell_type": "markdown",
   "metadata": {},
   "source": [
    "### Stochastic Gradient Descent\n",
    "To minimize the objective, we are going to use a stochastic gradient descent algorithm.\n",
    "It means that we are going to sample __one__ data point stochastically, and update the weights so as to decrease the objective value for this __one__ sample by going in the opposite direction of the gradient.\n",
    "\n",
    "Now it's up to you !\n",
    "\n",
    "1. Express the objective function for only one sample $J^{(i)}(\\pmb{w}, b)$\n",
    "2. Express the partial derivatives $\\frac{\\partial J^{(i)}}{\\partial b}$ and $\\frac{\\partial J^{(i)}}{\\partial \\pmb{w}}$.   _Help_: split between the cases $(\\pmb{w}^T x^{(i)} + b)t^{(i)} < 0$ and $(\\pmb{w}^T x^{(i)} + b)t^{(i)} \\geq 0$.\n",
    "3. What happens when $\\pmb{w}=0$ and $b=0$?"
   ]
  },
  {
   "cell_type": "code",
   "execution_count": 31,
   "metadata": {},
   "outputs": [],
   "source": [
    "def objective_function(train_set, weights, bias):\n",
    "    return np.maximum(0, (np.sum(weights * train_set[:,:-1], axis = 1) + bias) * train_set[:,-1])"
   ]
  },
  {
   "cell_type": "code",
   "execution_count": 3,
   "metadata": {},
   "outputs": [],
   "source": [
    "def dJdw(train_set, objective):\n",
    "    result = np.zeros((train_set.shape[0], train_set.shape[1]-1))\n",
    "    non_zero_i = np.where(objective > 0)[0]\n",
    "    result[non_zero_i] = - train_set[non_zero_i,:-1] * train_set[non_zero_i,-1].reshape((len(non_zero_i),1))\n",
    "    return result"
   ]
  },
  {
   "cell_type": "code",
   "execution_count": 4,
   "metadata": {},
   "outputs": [],
   "source": [
    "def dJdb(train_set, objective):\n",
    "    result = np.zeros(train_set.shape[0])\n",
    "    non_zero_i = np.where(objective > 0)[0]\n",
    "    result[non_zero_i] = -train_set[non_zero_i,-1]\n",
    "    return result"
   ]
  },
  {
   "cell_type": "markdown",
   "metadata": {},
   "source": [
    "### Training Algorithm\n",
    "\n",
    "The learning algorithm is:\n",
    "\n",
    " - iterate over samples in the dataset one by one.\n",
    " - For each sample, update the parameters with the formula: $b \\leftarrow b - \\eta \\frac{\\partial J^{(i)}}{\\partial b}$ and $\\pmb{w} \\leftarrow \\pmb{w} - \\eta \\frac{\\partial J^{(i)}}{\\partial \\pmb{w}}$\n",
    "\n",
    "We can add a stopping criterion:\n",
    "\n",
    " - If all the training samples are well classified, stop. In such a situation, $J_{perceptron}(\\theta) = 0$ and the partial derivatives are zero. There is nothing to learn anymore."
   ]
  },
  {
   "cell_type": "markdown",
   "metadata": {},
   "source": [
    "## Practice\n",
    "\n",
    "*In this section, you will implement the formulas derived above.*\n",
    "\n",
    "### Data pre-processing\n",
    "\n",
    "We are going to work on the iris dataset. \n",
    "We will use only 2 classes: iris with labels 1 and 2, that we will replace by 1 and -1 to match the perceptron's needs. We will also use only 2 features per iris, so that we can visualize the algorithm.\n",
    "\n",
    "Here is the code that pre-process the data. \n",
    "Do not hesitate to look at the *shapes* of each data set to understand what is happening."
   ]
  },
  {
   "cell_type": "code",
   "execution_count": 41,
   "metadata": {},
   "outputs": [],
   "source": [
    "# We first load the data set\n",
    "iris = np.loadtxt('iris.txt')\n",
    "data = iris\n",
    "\n",
    "# We are doing BINARY classification, so we will only keep data from 2 classes.\n",
    "# Here we decide to keep samples with labels 1 and 2.\n",
    "data = data[data[:,-1]<3,:]\n",
    "# Here we transform each label 2 into a -1, \n",
    "# to have the same labels as in the standard formulation of the perceptron (1 and -1)\n",
    "data[data[:,-1]==2,-1] = -1\n",
    "\n",
    "# We keep only 2 features to be able to visualize the decision boundary.\n",
    "train_cols = [1,3]\n",
    "# This is a list containing the index of the column containing the labels\n",
    "target_ind = [data.shape[1] - 1]\n",
    "\n",
    "# Number of classes\n",
    "n_classes = 2\n",
    "# Number of training samples\n",
    "n_train = 75\n",
    "\n",
    "# Comment to get non-deterministic results\n",
    "#np.random.seed(2)\n",
    "\n",
    "## Shuffle the data set before splitting it between train and test\n",
    "# First get the indices\n",
    "inds = np.arange(data.shape[0])\n",
    "np.random.shuffle(inds)\n",
    "train_inds = inds[:n_train]\n",
    "test_inds = inds[n_train:]\n",
    "    \n",
    "# Then split the data set\n",
    "train_set = data[train_inds,:]  # keep the right lines\n",
    "train_set = train_set[:,train_cols + target_ind]  # keep the right columns\n",
    "test_set = data[test_inds,:]\n",
    "test_set = test_set[:,train_cols + target_ind]\n",
    "\n",
    "# Split the test set: inputs and labels\n",
    "test_inputs = test_set[:,:-1]\n",
    "test_labels = test_set[:,-1]"
   ]
  },
  {
   "cell_type": "markdown",
   "metadata": {},
   "source": [
    "### The perceptron class\n",
    "\n",
    "We define the class *Perceptron*. As usual, it's a class that has a *train* method to learn the parameters on the *train_set* and a *compute_prediction* method to predict the class of each sample in *test_inputs*.\n",
    "\n",
    "For this lab session, you have to:\n",
    "\n",
    "1. Complete the method *train*\n",
    "2. Complete the method *compute_prediction*\n"
   ]
  },
  {
   "cell_type": "code",
   "execution_count": 39,
   "metadata": {},
   "outputs": [],
   "source": [
    "class Perceptron:\n",
    "\n",
    "    def __init__(self, eta):\n",
    "        \"\"\"\n",
    "        Class constructor initializing the attributes.\n",
    "        Parameters\n",
    "        ----------\n",
    "        eta : float\n",
    "            Learning rate\n",
    "        \"\"\"\n",
    "        self.eta = eta\n",
    "\n",
    "    def plot_function(self, train_data, title):\n",
    "        plt.figure()\n",
    "        d1 = train_data[train_data[:, -1] > 0]\n",
    "        d2 = train_data[train_data[:, -1] < 0]\n",
    "        plt.scatter(d1[:, 0], d1[:, 1], c='b', label='class +1')\n",
    "        plt.scatter(d2[:, 0], d2[:, 1], c='g', label='class -1')\n",
    "        x = np.linspace(-10, 10, 100)\n",
    "        y = -(self.weights[0]*x + self.bias)/self.weights[1]\n",
    "        plt.plot(x, y, c='r', lw=2, label='y = -(w1*x + b1)/w2')\n",
    "        plt.xlim(np.min(train_data[:, 0]) - 0.5, np.max(train_data[:, 0]) + 0.5)\n",
    "        plt.ylim(np.min(train_data[:, 1]) - 0.5, np.max(train_data[:, 1]) + 0.5)\n",
    "        plt.grid()\n",
    "        plt.legend(loc='lower right')\n",
    "        plt.title(title)\n",
    "        plt.show()\n",
    "\n",
    "    def train(self, train_data, max_iter=10):\n",
    "        \"\"\"\n",
    "        Train the model on a data matrix by doing a maximum of max_iter epochs.\n",
    "        (Note: One epoch is one pass over the data set.)\n",
    "        \n",
    "        Parameters\n",
    "        ----------\n",
    "        train_data : array\n",
    "            matrix of dimension (n, d+1) where n is the number of samples\n",
    "            and d is the number of dimensions of each sample. Each line contains\n",
    "            one input in the d first columns and the label in the column d+1.\n",
    "        max_iter : int\n",
    "            Maximal number of epochs(default 10).\n",
    "        \"\"\"\n",
    "        # 1) Parameters Initialization\n",
    "        # Initialize the weigths to small values and the bias to 0\n",
    "        self.weights = np.random.rand(train_set.shape[1] - 1)/100\n",
    "        self.bias = 0\n",
    "         \n",
    "        # 2) Training\n",
    "        # Implement the algorithm presented above\n",
    "        # iteration is the number of epochs done so far.\n",
    "        # count is the number of misclassified examples.\n",
    "        print('Training ...')\n",
    "        iteration = 0\n",
    "        while iteration < max_iter:\n",
    "            self.plot_function(train_data, 'Iteration no: ' + str(iteration))\n",
    "            # Implement the training algorithm here !\n",
    "            objectives = objective_function(train_set=train_set, bias=self.bias, weights=self.weights)\n",
    "            non_zero_i = np.where(objectives > 0)[0]\n",
    "            if len(non_zero_i) == 0:\n",
    "                break\n",
    "                \n",
    "            delta_w = np.mean(dJdw(objective=objectives, train_set=train_set), axis = 0)\n",
    "            delta_b = np.mean(dJdb(objective=objectives, train_set=train_set))\n",
    "            self.weights = self.weights + self.eta * delta_w\n",
    "            self.bias = self.bias + self.eta * delta_b\n",
    "            iteration += 1\n",
    "            \n",
    "        count = len(non_zero_i)    \n",
    "        print('Training completed!')\n",
    "        print(\"The train error is {:.2f}%\".format(100 * float(count)/train_data.shape[0]))\n",
    "\n",
    "    def compute_predictions(self, test_data):\n",
    "        \"\"\"\n",
    "        Predict the class of each sample in a test matrix\n",
    "        \n",
    "        Parameters\n",
    "        ----------\n",
    "        test_data : array\n",
    "            matrix of shape (n,d) where n is the number of samples\n",
    "            and d is the number of dimensions.\n",
    "            \n",
    "        Returns\n",
    "        -------\n",
    "        array\n",
    "            array of shape (n) filled with predicted classes (-1 or 1)\n",
    "        \"\"\"\n",
    "  \n",
    "        # 1) Calculate the class predicted by the perceptron for each sample\n",
    "        predictions = np.zeros(test_data.shape[0])\n",
    "        # Fill here\n",
    "        \n",
    "        return predictions"
   ]
  },
  {
   "cell_type": "markdown",
   "metadata": {},
   "source": [
    "### Training\n",
    "Now that the class *Perceptron* is complete, we can train it. \n",
    "After each epoch, a plot will be displayed."
   ]
  },
  {
   "cell_type": "code",
   "execution_count": 42,
   "metadata": {},
   "outputs": [
    {
     "name": "stdout",
     "output_type": "stream",
     "text": [
      "Training ...\n"
     ]
    },
    {
     "data": {
      "image/png": "[encoded data removed]",
      "text/plain": [
       "<Figure size 432x288 with 1 Axes>"
      ]
     },
     "metadata": {
      "needs_background": "light"
     },
     "output_type": "display_data"
    },
    {
     "data": {
      "image/png": "[encoded data removed]",
      "text/plain": [
       "<Figure size 432x288 with 1 Axes>"
      ]
     },
     "metadata": {
      "needs_background": "light"
     },
     "output_type": "display_data"
    },
    {
     "data": {
      "image/png": "[encoded data removed]",
      "text/plain": [
       "<Figure size 432x288 with 1 Axes>"
      ]
     },
     "metadata": {
      "needs_background": "light"
     },
     "output_type": "display_data"
    },
    {
     "data": {
      "image/png": "[encoded data removed]",
      "text/plain": [
       "<Figure size 432x288 with 1 Axes>"
      ]
     },
     "metadata": {
      "needs_background": "light"
     },
     "output_type": "display_data"
    },
    {
     "data": {
      "image/png": "[encoded data removed]",
      "text/plain": [
       "<Figure size 432x288 with 1 Axes>"
      ]
     },
     "metadata": {
      "needs_background": "light"
     },
     "output_type": "display_data"
    },
    {
     "name": "stdout",
     "output_type": "stream",
     "text": [
      "Training completed!\n",
      "The train error is 0.00%\n"
     ]
    }
   ],
   "source": [
    "# The learning rate\n",
    "eta = 0.001\n",
    "\n",
    "# Instantiate and train the model\n",
    "model_perceptron = Perceptron(eta)\n",
    "model_perceptron.train(train_set, max_iter= 50)"
   ]
  },
  {
   "cell_type": "markdown",
   "metadata": {},
   "source": [
    "### Testing\n",
    "\n",
    "Now that our model is trained, we can test it !"
   ]
  },
  {
   "cell_type": "code",
   "execution_count": 8,
   "metadata": {},
   "outputs": [
    {
     "data": {
      "image/png": "[encoded data removed]",
      "text/plain": [
       "<Figure size 432x288 with 1 Axes>"
      ]
     },
     "metadata": {
      "needs_background": "light"
     },
     "output_type": "display_data"
    },
    {
     "name": "stdout",
     "output_type": "stream",
     "text": [
      "The test error is 100.00%\n"
     ]
    }
   ],
   "source": [
    "# Get the classes predicted for the test set\n",
    "predictions = model_perceptron.compute_predictions(test_inputs)\n",
    "   \n",
    "# Measure the error rate\n",
    "err = 1.0 - np.mean(test_labels==predictions)\n",
    "\n",
    "model_perceptron.plot_function(test_set, 'Test data')\n",
    "print(\"The test error is {:.2f}%\".format(100.0 * err))"
   ]
  },
  {
   "cell_type": "markdown",
   "metadata": {},
   "source": [
    "### If you are done\n",
    "\n",
    "If you completed everything this far, you can play with the different parameters.\n",
    "This is good practice to get familiar with hyper parameter tuning.\n",
    "For instance:\n",
    "\n",
    "1. Change $\\eta$. What is its impact on the training time? and on the quality of the classifier? \n",
    "2. Use other Iris features (for instance [1,3] instead of [2,3]).\n",
    "3. Change the size of the training set. Is there an impact on the performance?"
   ]
  },
  {
   "cell_type": "code",
   "execution_count": null,
   "metadata": {},
   "outputs": [],
   "source": []
  },
  {
   "cell_type": "raw",
   "metadata": {},
   "source": []
  },
  {
   "cell_type": "code",
   "execution_count": null,
   "metadata": {},
   "outputs": [],
   "source": []
  }
 ],
 "metadata": {
  "kernelspec": {
   "display_name": "Python 3",
   "language": "python",
   "name": "python3"
  },
  "language_info": {
   "codemirror_mode": {
    "name": "ipython",
    "version": 3
   },
   "file_extension": ".py",
   "mimetype": "text/x-python",
   "name": "python",
   "nbconvert_exporter": "python",
   "pygments_lexer": "ipython3",
   "version": "3.6.6"
  }
 },
 "nbformat": 4,
 "nbformat_minor": 2
}
